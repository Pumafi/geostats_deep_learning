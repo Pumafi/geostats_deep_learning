{
  "cells": [
    {
      "cell_type": "markdown",
      "metadata": {
        "id": "view-in-github",
        "colab_type": "text"
      },
      "source": [
        "<a href=\"https://colab.research.google.com/github/Pumafi/geostats_deep_learning/blob/main/TP_Autoencoders.ipynb\" target=\"_parent\"><img src=\"https://colab.research.google.com/assets/colab-badge.svg\" alt=\"Open In Colab\"/></a>"
      ]
    },
    {
      "cell_type": "markdown",
      "metadata": {
        "id": "xfNT-mlFwxVM"
      },
      "source": [
        "# Intro to Autoencoders"
      ]
    },
    {
      "cell_type": "markdown",
      "metadata": {
        "id": "ITZuApL56Mny"
      },
      "source": [
        "This tutorial introduces autoencoders with three examples: the basics, image denoising, and anomaly detection.\n",
        "\n",
        "An autoencoder is a special type of neural network that is trained to copy its input to its output. For example, given an image of a handwritten digit, an autoencoder first encodes the image into a lower dimensional latent representation, then decodes the latent representation back to an image. An autoencoder learns to compress the data while minimizing the reconstruction error. \n",
        "\n",
        "To learn more about autoencoders, please consider reading chapter 14 from [Deep Learning](https://www.deeplearningbook.org/) by Ian Goodfellow, Yoshua Bengio, and Aaron Courville."
      ]
    },
    {
      "cell_type": "code",
      "source": [
        "RUNNING_IN_COLAB = True\n",
        "\n",
        "if RUNNING_IN_COLAB:\n",
        "    # Uses a private Auth Token, giving read and write access to repo\n",
        "    # TO DELETE IF REPO GOES PUBLIC\n",
        "    REPO_URL = 'https://github.com/Pumafi/geostats_deep_learning.git'\n",
        "    BRANCH   = 'main'\n",
        "    REPO_DIR = 'geostats_deep_learning'\n",
        "\n",
        "    from pathlib import Path\n",
        "\n",
        "    %cd /content\n",
        "\n",
        "    if Path(REPO_DIR).is_dir():\n",
        "      !rm -rf {REPO_DIR}\n",
        "\n",
        "    # Download the repository\n",
        "    if not Path(REPO_DIR).is_dir():\n",
        "        !git clone --branch {BRANCH} --depth=1 -- {REPO_URL} {REPO_DIR}\n",
        "    \n",
        "    %cd {REPO_DIR}"
      ],
      "metadata": {
        "id": "L7NdSAXoYzII"
      },
      "execution_count": null,
      "outputs": []
    },
    {
      "cell_type": "markdown",
      "metadata": {
        "id": "e1_Y75QXJS6h"
      },
      "source": [
        "## Import TensorFlow and other libraries"
      ]
    },
    {
      "cell_type": "code",
      "execution_count": null,
      "metadata": {
        "id": "YfIk2es3hJEd"
      },
      "outputs": [],
      "source": [
        "import matplotlib.pyplot as plt\n",
        "import numpy as np\n",
        "import pandas as pd\n",
        "import tensorflow as tf\n",
        "from tensorflow import keras\n",
        "\n",
        "from sklearn.metrics import accuracy_score, precision_score, recall_score\n",
        "from sklearn.model_selection import train_test_split\n",
        "from tensorflow.keras import layers, losses\n",
        "from tensorflow.keras.datasets import fashion_mnist, mnist\n",
        "from tensorflow.keras.models import Model"
      ]
    },
    {
      "cell_type": "markdown",
      "metadata": {
        "id": "VEdCXSwCoKok"
      },
      "source": [
        "## First example: Basic autoencoder\n",
        "\n",
        "Define an autoencoder with two Dense layers: an `encoder`, which compresses the images into a 64 dimensional latent vector, and a `decoder`, that reconstructs the original image from the latent space.\n",
        "\n",
        "To define your model, use the [Keras Model Subclassing API](https://www.tensorflow.org/guide/keras/custom_layers_and_models).\n",
        "\n",
        "It should be a simple model, with only one Dense layer in the encoder, and one Dense layer in the decoder. Use a `relu` activation in encoder and a `sigmoid` activation in decoder.\n"
      ]
    },
    {
      "cell_type": "markdown",
      "metadata": {
        "id": "qNPaQcFhDKBQ"
      },
      "source": [
        "### Loading MNIST data"
      ]
    },
    {
      "cell_type": "code",
      "execution_count": null,
      "metadata": {
        "id": "1EhgAgReDJfe"
      },
      "outputs": [],
      "source": [
        "(x_train, y_train), (x_test, y_test) = mnist.load_data()\n",
        "\n",
        "x_train = x_train.astype(\"float32\") / 255\n",
        "x_test = x_test.astype(\"float32\") / 255"
      ]
    },
    {
      "cell_type": "code",
      "execution_count": null,
      "metadata": {
        "id": "0MUxidpyChjX"
      },
      "outputs": [],
      "source": [
        "latent_dim = 64 \n",
        "\n",
        "class Autoencoder(Model):\n",
        "  def __init__(self, latent_dim):\n",
        "    super(Autoencoder, self).__init__()\n",
        "    self.latent_dim = latent_dim   \n",
        "    self.encoder = None\n",
        "      # TODO: your code goes here\n",
        "      # TODO: your code ends here\n",
        "    self.decoder = None\n",
        "      # TODO: your code goes here\n",
        "      # TODO: your code ends here\n",
        "\n",
        "  def call(self, x):\n",
        "    # TODO: your code goes here\n",
        "    pass\n",
        "    # TODO: your code ends here\n",
        "\n",
        "autoencoder = Autoencoder(latent_dim) "
      ]
    },
    {
      "cell_type": "code",
      "execution_count": null,
      "metadata": {
        "id": "mzlxPhRIYwc1"
      },
      "outputs": [],
      "source": [
        "# %load Corrections/encoder_corr_1.py"
      ]
    },
    {
      "cell_type": "markdown",
      "metadata": {
        "id": "Xbwj-9sE7Vl6"
      },
      "source": [
        "***What loss function should you use ?***"
      ]
    },
    {
      "cell_type": "code",
      "execution_count": null,
      "metadata": {
        "id": "9I1JlqEIDCI4"
      },
      "outputs": [],
      "source": [
        "# Complete the compile call\n",
        "autoencoder.compile(optimizer='adam', loss=None) # TODO: you code goes here\n",
        "autoencoder.build([None, x_train.shape[1], x_train.shape[2], 1])\n",
        "autoencoder.encoder.summary()\n",
        "autoencoder.decoder.summary()"
      ]
    },
    {
      "cell_type": "markdown",
      "metadata": {
        "id": "_ZbFoe01_42S"
      },
      "source": [
        "### Introduction to Keras"
      ]
    },
    {
      "cell_type": "code",
      "source": [
        "RUNNING_IN_COLAB = True\n",
        "\n",
        "if RUNNING_IN_COLAB:\n",
        "    # Uses a private Auth Token, giving read and write access to repo\n",
        "    # TO DELETE IF REPO GOES PUBLIC\n",
        "    REPO_URL = 'https://github.com/Pumafi/geostats_deep_learning.git'\n",
        "    BRANCH   = 'main'\n",
        "    REPO_DIR = 'geostats_deep_learning'\n",
        "\n",
        "    from pathlib import Path\n",
        "\n",
        "    %cd /content\n",
        "\n",
        "    if Path(REPO_DIR).is_dir():\n",
        "      !rm -rf {REPO_DIR}\n",
        "\n",
        "    # Download the repository\n",
        "    if not Path(REPO_DIR).is_dir():\n",
        "        !git clone --branch {BRANCH} --depth=1 -- {REPO_URL} {REPO_DIR}\n",
        "    \n",
        "    %cd {REPO_DIR}"
      ],
      "metadata": {
        "id": "OwY_7RatZBsZ"
      },
      "execution_count": null,
      "outputs": []
    },
    {
      "cell_type": "code",
      "execution_count": null,
      "metadata": {
        "id": "5NMYeG0S-Gel"
      },
      "outputs": [],
      "source": [
        "import numpy as np\n",
        "import tensorflow as tf\n",
        "from tensorflow import keras\n",
        "from keras import layers\n",
        "import matplotlib.pyplot as plt"
      ]
    },
    {
      "cell_type": "markdown",
      "metadata": {
        "id": "l9gX4X5jBMHr"
      },
      "source": [
        "### **Keras**\n",
        "\n",
        "Keras is a high level Deep Learning Python library.\n",
        "\n",
        "The main idea behind the Keras Deep Learning lib is that a deep learning model is usually a **directed acyclic graph (DAG) of layers**.\n",
        "\n",
        "Using the different available API, you will be able to build those *graphs of layers.*"
      ]
    },
    {
      "cell_type": "markdown",
      "metadata": {
        "id": "kAolEO2UAfI9"
      },
      "source": [
        "#### Layers\n",
        "\n"
      ]
    },
    {
      "cell_type": "markdown",
      "metadata": {
        "id": "_DquZV7YAkL0"
      },
      "source": [
        "##### Fully Connected Layers"
      ]
    },
    {
      "cell_type": "code",
      "execution_count": null,
      "metadata": {
        "id": "0Kiae2jP9sIm"
      },
      "outputs": [],
      "source": [
        "!keras.layers.Dense?"
      ]
    },
    {
      "cell_type": "code",
      "execution_count": null,
      "metadata": {
        "id": "jgHcpkveAjY9"
      },
      "outputs": [],
      "source": [
        "output_size=128\n",
        "activation='sigmoid'\n",
        "\n",
        "fc = # TODO: insert the creation of a Dense layer here"
      ]
    },
    {
      "cell_type": "code",
      "execution_count": null,
      "metadata": {
        "id": "XgDe_ylZZAxL"
      },
      "outputs": [],
      "source": [
        "# %load Corrections/keras_corr_1.py"
      ]
    },
    {
      "cell_type": "markdown",
      "metadata": {
        "id": "kbVfVzkQAoJx"
      },
      "source": [
        "##### Convolutional Layers"
      ]
    },
    {
      "cell_type": "code",
      "execution_count": null,
      "metadata": {
        "id": "a_NxtC4o9-O_"
      },
      "outputs": [],
      "source": [
        "!keras.layers.Conv2D?"
      ]
    },
    {
      "cell_type": "code",
      "execution_count": null,
      "metadata": {
        "id": "eENrYRM9Aexk"
      },
      "outputs": [],
      "source": [
        "output_features=128\n",
        "kernel_size=(3, 3)\n",
        "activation='sigmoid'\n",
        "\n",
        "conv = # TODO: insert the creation of a Conv layer here"
      ]
    },
    {
      "cell_type": "code",
      "execution_count": null,
      "metadata": {
        "id": "uI4v7RS-ZAxS"
      },
      "outputs": [],
      "source": [
        "# %load Corrections/keras_corr_2.py"
      ]
    },
    {
      "cell_type": "markdown",
      "metadata": {
        "id": "Fpx2QhnQ_4Kq"
      },
      "source": [
        "#### Functional API\n",
        "\n",
        "The Keras functional API is a way to create models that are more flexible than the tf.keras.Sequential API.\n",
        "\n",
        "The functional API can handle models with non-linear topology, shared layers, and even multiple inputs or outputs.\n",
        "\n",
        "To demonstrate consider the following code, defining a very simple Fully Connected model."
      ]
    },
    {
      "cell_type": "code",
      "execution_count": null,
      "metadata": {
        "id": "qhkbeBJS_3yN"
      },
      "outputs": [],
      "source": [
        "inputs = keras.Input(shape=(50,))\n",
        "\n",
        "# In the Fonctional API, the next layer is defined using LayerClass(*args)(last_layer_outputs)\n",
        "y = keras.layers.Dense(128, activation=\"sigmoid\", name=\"layer1\")(inputs)\n",
        "outputs = keras.layers.Dense(32, activation=\"softmax\", name=\"output\")(y)"
      ]
    },
    {
      "cell_type": "markdown",
      "metadata": {
        "id": "Lpw4d3i_-SwX"
      },
      "source": [
        "At this point you can create the Model by specifying the inputs and outputs in the graph of layers\n"
      ]
    },
    {
      "cell_type": "code",
      "execution_count": null,
      "metadata": {
        "id": "3bKsOs0O-LXk"
      },
      "outputs": [],
      "source": [
        "!keras.Model?"
      ]
    },
    {
      "cell_type": "code",
      "execution_count": null,
      "metadata": {
        "id": "n_PFTl779-Zo"
      },
      "outputs": [],
      "source": [
        "model = keras.Model(inputs=inputs, outputs=outputs, name=\"model\")\n",
        "\n",
        "model.summary()"
      ]
    },
    {
      "cell_type": "code",
      "execution_count": null,
      "metadata": {
        "id": "f5tR7crP96mn"
      },
      "outputs": [],
      "source": [
        "keras.utils.plot_model(model, \"model.png\", show_shapes=True)"
      ]
    },
    {
      "cell_type": "markdown",
      "metadata": {
        "id": "rmCnd5Tc_6aY"
      },
      "source": [
        "#### Sequential API\n",
        "\n",
        "A Sequential model is appropriate for a plain stack of layers where each layer has exactly one input tensor and one output tensor.\n",
        "\n",
        "Let's define the same model as before but using this new API."
      ]
    },
    {
      "cell_type": "code",
      "execution_count": null,
      "metadata": {
        "id": "_7-BV-I4-Ufh"
      },
      "outputs": [],
      "source": [
        "!keras.Sequential?"
      ]
    },
    {
      "cell_type": "code",
      "execution_count": null,
      "metadata": {
        "id": "ZbbB6ny3_6kw"
      },
      "outputs": [],
      "source": [
        "# Define Sequential model with 2 layers\n",
        "model = keras.Sequential(\n",
        "    [\n",
        "        keras.layers.Dense(128, activation=\"sigmoid\", name=\"layer1\"),\n",
        "        keras.layers.Dense(32, activation=\"softmax\", name=\"output\"),\n",
        "    ]\n",
        ")\n",
        "# Call model on a test input\n",
        "x = tf.ones((1, 50))\n",
        "y = model(x)"
      ]
    },
    {
      "cell_type": "code",
      "execution_count": null,
      "metadata": {
        "id": "2xSj_doGBKCH"
      },
      "outputs": [],
      "source": [
        "model.summary()"
      ]
    },
    {
      "cell_type": "code",
      "execution_count": null,
      "metadata": {
        "id": "WXtnPuNtBLMg"
      },
      "outputs": [],
      "source": [
        "keras.utils.plot_model(model, \"model.png\", show_shapes=True)"
      ]
    },
    {
      "cell_type": "markdown",
      "metadata": {
        "id": "VJP49kN5rwlK"
      },
      "source": [
        "#### Exercise 1 : Simple Feed Forward Network\n",
        "\n",
        "Create a simple feed forward that takes a flattened MNIST input (28x28) and outputs the classification vector.\n",
        "\n",
        "It should have one hidden layer with 100 neurons and a tanh output, and a Dense output layer with a softmax activation."
      ]
    },
    {
      "cell_type": "code",
      "execution_count": null,
      "metadata": {
        "id": "xhhCmWMzthol"
      },
      "outputs": [],
      "source": [
        "# TODO: Put your code here\n",
        "# Define Sequential model with those 2 layers\n",
        "# TODO: end"
      ]
    },
    {
      "cell_type": "code",
      "execution_count": null,
      "metadata": {
        "id": "ZA6x2Tw-ZAxj"
      },
      "outputs": [],
      "source": [
        "# %load Corrections/keras_corr_3.py"
      ]
    },
    {
      "cell_type": "code",
      "execution_count": null,
      "metadata": {
        "id": "rWld5_Not5dc"
      },
      "outputs": [],
      "source": [
        "model.summary()"
      ]
    },
    {
      "cell_type": "code",
      "execution_count": null,
      "metadata": {
        "id": "b6YoZMtjt7DS"
      },
      "outputs": [],
      "source": [
        "keras.utils.plot_model(model, \"model.png\", show_shapes=True)"
      ]
    },
    {
      "cell_type": "markdown",
      "metadata": {
        "id": "zhCC9rTg_60s"
      },
      "source": [
        "#### Training"
      ]
    },
    {
      "cell_type": "markdown",
      "metadata": {
        "id": "Z--XnehEJUvK"
      },
      "source": [
        "First we need to load some data to train our model with"
      ]
    },
    {
      "cell_type": "code",
      "execution_count": null,
      "metadata": {
        "id": "hKruXoJMHT-f"
      },
      "outputs": [],
      "source": [
        "# Loading the Mnist dataset\n",
        "(x_train, y_train), (x_test, y_test) = keras.datasets.mnist.load_data()\n",
        "\n",
        "x_train = x_train.reshape(60000, 784).astype(\"float32\") / 255\n",
        "x_test = x_test.reshape(10000, 784).astype(\"float32\") / 255"
      ]
    },
    {
      "cell_type": "markdown",
      "metadata": {
        "id": "GJs52L0qJYu6"
      },
      "source": [
        "#### Compiling the Model\n",
        "\n",
        "To train a model with fit(), you need to specify a **loss function, an optimizer, and optionally, some metrics to monitor**.\n",
        "\n",
        "You pass these to the model as arguments to the [compile](https://keras.io/api/losses/probabilistic_losses/#binarycrossentropy-class)() method.\n",
        "\n",
        "*   The loss argument is a callable with arguments loss_fn(y_true, y_pred,sample_weight=None). The compile function can also accept some defined string arguments such as: \"*mean_absolute_error*\", \"*mean_squared_error*\", \"*binary_crossentropy*\"...\n",
        "*   Similarly, the optimizer argument can also accept \"*adam*\", \"*sgd*\"...\n",
        "*   The metrics argument should be a list -- your model can have any number of metrics.\n"
      ]
    },
    {
      "cell_type": "code",
      "execution_count": null,
      "metadata": {
        "id": "8dIvQUBg_69E"
      },
      "outputs": [],
      "source": [
        "model.compile(\n",
        "    loss=\"sparse_categorical_crossentropy\",\n",
        "    optimizer=tf.keras.optimizers.SGD(learning_rate=0.1),\n",
        "    metrics=[\"accuracy\"],\n",
        ")\n",
        "\n",
        "history = model.fit(x_train, y_train, batch_size=32, epochs=15, validation_split=0.2)"
      ]
    },
    {
      "cell_type": "markdown",
      "metadata": {
        "id": "JJmBylyiudUV"
      },
      "source": [
        "Let's visualise the convergence"
      ]
    },
    {
      "cell_type": "code",
      "execution_count": null,
      "metadata": {
        "id": "DC6X3MSyuZlk"
      },
      "outputs": [],
      "source": [
        "import pandas as pd\n",
        "\n",
        "history_df = pd.DataFrame(history.history)\n",
        "history_df[\"epoch\"] = history.epoch\n",
        "\n",
        "fig, (ax0, ax1) = plt.subplots(nrows=2, sharex=True, figsize=(12, 6))\n",
        "history_df.plot(x=\"epoch\", y=[\"loss\", \"val_loss\"], ax=ax0)\n",
        "history_df.plot(x=\"epoch\", y=[\"accuracy\", \"val_accuracy\"], ax=ax1);"
      ]
    },
    {
      "cell_type": "code",
      "execution_count": null,
      "metadata": {
        "id": "fmJvLqgwJS2W"
      },
      "outputs": [],
      "source": [
        "test_scores = model.evaluate(x_test, y_test, verbose=2)\n",
        "print(\"Test loss:\", test_scores[0])\n",
        "print(\"Test accuracy:\", test_scores[1])"
      ]
    },
    {
      "cell_type": "markdown",
      "metadata": {
        "id": "hQwAfDFxob5V"
      },
      "source": [
        "#### Exercise 2 : Impact of the Optimiser\n",
        "\n",
        "\n",
        "\n",
        "1.   Try replacing the value of the learning rate by 0.01 or 0.001. What happens ?\n",
        "2.   Try increasing the learning rate until the model diverge. At what lr does the model diverge ?\n",
        "3.   Try adding Nesterov Momentum with a value of 0.8 to SGD. How many epochs does it need to converge ?\n",
        "\n"
      ]
    },
    {
      "cell_type": "code",
      "execution_count": null,
      "metadata": {
        "id": "Bfaa-p_uqbLr"
      },
      "outputs": [],
      "source": [
        "!keras.optimizers.SGD?"
      ]
    },
    {
      "cell_type": "code",
      "execution_count": null,
      "metadata": {
        "id": "rX3Lk9V7q5fB"
      },
      "outputs": [],
      "source": [
        "# TODO: Put your code here\n",
        "# TODO: end"
      ]
    },
    {
      "cell_type": "code",
      "execution_count": null,
      "metadata": {
        "id": "jBdj4tW0wRzt"
      },
      "outputs": [],
      "source": [
        "# TODO: Put your code here\n",
        "# TODO: end"
      ]
    },
    {
      "cell_type": "code",
      "execution_count": null,
      "metadata": {
        "id": "NoTUtlAxwPWX"
      },
      "outputs": [],
      "source": [
        "# TODO: Put your code here\n",
        "# TODO: end"
      ]
    },
    {
      "cell_type": "code",
      "execution_count": null,
      "metadata": {
        "id": "6rEA3C9pZAxu"
      },
      "outputs": [],
      "source": [
        "# %load Corrections/keras_corr_4.py"
      ]
    },
    {
      "cell_type": "code",
      "execution_count": null,
      "metadata": {
        "id": "BHj_JQ8yZAxv"
      },
      "outputs": [],
      "source": [
        "# %load Corrections/keras_corr_5.py"
      ]
    },
    {
      "cell_type": "code",
      "execution_count": null,
      "metadata": {
        "id": "zyq9PNqDZAxv"
      },
      "outputs": [],
      "source": [
        "# %load Corrections/keras_corr_6.py"
      ]
    },
    {
      "cell_type": "markdown",
      "metadata": {
        "id": "I4uhTOsoqbaP"
      },
      "source": [
        "4. Replace SGD by Adam optimizer and run it\n"
      ]
    },
    {
      "cell_type": "code",
      "execution_count": null,
      "metadata": {
        "id": "V5j6G2PkrP9I"
      },
      "outputs": [],
      "source": [
        "# TODO: Put your code here\n",
        "# TODO: end"
      ]
    },
    {
      "cell_type": "code",
      "execution_count": null,
      "metadata": {
        "id": "gk2jqrJGZAxw"
      },
      "outputs": [],
      "source": [
        "# %load Corrections/keras_corr_7.py"
      ]
    },
    {
      "cell_type": "markdown",
      "metadata": {
        "id": "y4iGe2ZoMcRK"
      },
      "source": [
        "#### Exercise 3 : Simple MNIST LeNet (Convolutional Networks)\n",
        "\n",
        "[Y. Lecun, 1998](https://ieeexplore.ieee.org/abstract/document/726791)"
      ]
    },
    {
      "cell_type": "markdown",
      "metadata": {
        "id": "3q5ZaMVZNISm"
      },
      "source": [
        "    \n",
        "![0*H9_eGAtkQXJXtkoK.png](data:image/png;base64,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)"
      ]
    },
    {
      "cell_type": "markdown",
      "metadata": {
        "id": "mGOwcozxJ1B9"
      },
      "source": [
        "\n",
        "\n",
        "\n",
        "1.   Image Input: 28 (height) x 28 (width) x 1 (channel) \n",
        "2.   Convolution with 5x5 kernel + padding: 28x28x6 \\[sigmoid activation\\]\n",
        "3.   Pooling with 2x2 average kernel: 14x14x6\n",
        "4.   Convolution with 5x5 kernel (no padding): 10x10x16 \\[sigmoid activation\\]\n",
        "5.   Pooling with 2x2 average kernel: 5x5x16\n",
        "6.   Flatten\n",
        "7.   Dense: 120 fully connected neurons \\[sigmoid activation\\]\n",
        "8.   Dense: 84 fully connected neurons \\[sigmoid activation\\]\n",
        "9.   Dense: 10 fully connected neurons \\[softmax activation\\]\n",
        "10.  Output: 1 out of 10 classes\n",
        "\n",
        "\n"
      ]
    },
    {
      "cell_type": "code",
      "execution_count": null,
      "metadata": {
        "id": "gISt4_KyXgtV"
      },
      "outputs": [],
      "source": [
        "# Loading the Mnist dataset\n",
        "(x_train, y_train), (x_test, y_test) = keras.datasets.mnist.load_data()\n",
        "\n",
        "x_train = x_train.astype(\"float32\") / 255\n",
        "x_test = x_test.astype(\"float32\") / 255"
      ]
    },
    {
      "cell_type": "code",
      "execution_count": null,
      "metadata": {
        "id": "hFf9KMnXJniz"
      },
      "outputs": [],
      "source": [
        "# TODO: your code goes here [You can use either API for this model]\n",
        "# TODO: end"
      ]
    },
    {
      "cell_type": "code",
      "execution_count": null,
      "metadata": {
        "id": "fVinHnspZAx_"
      },
      "outputs": [],
      "source": [
        "# %load Corrections/keras_corr_8.py"
      ]
    },
    {
      "cell_type": "code",
      "execution_count": null,
      "metadata": {
        "id": "MaJHjYygJn0D"
      },
      "outputs": [],
      "source": [
        "lenet.summary()"
      ]
    },
    {
      "cell_type": "code",
      "execution_count": null,
      "metadata": {
        "id": "JFSBplhDXUWt"
      },
      "outputs": [],
      "source": [
        "lenet.compile(\n",
        "    loss=\"sparse_categorical_crossentropy\",\n",
        "    optimizer=\"adam\",\n",
        "    metrics=[\"accuracy\"],\n",
        ")\n",
        "\n",
        "history = lenet.fit(x_train, y_train, batch_size=64, epochs=2, validation_split=0.2)"
      ]
    },
    {
      "cell_type": "code",
      "execution_count": null,
      "metadata": {
        "id": "z-AO4BouXWQF"
      },
      "outputs": [],
      "source": [
        "test_scores = lenet.evaluate(x_test, y_test, verbose=2)\n",
        "print(\"Test loss:\", test_scores[0])\n",
        "print(\"Test accuracy:\", test_scores[1])"
      ]
    },
    {
      "cell_type": "code",
      "execution_count": null,
      "metadata": {
        "id": "ae6QP9OzZDQC"
      },
      "outputs": [],
      "source": [
        "y_pred=lenet(np.expand_dims(x_test[0], 0))\n",
        "y_pred.shape"
      ]
    },
    {
      "cell_type": "code",
      "execution_count": null,
      "metadata": {
        "id": "ktL2anDXSJYR"
      },
      "outputs": [],
      "source": [
        "import random\n",
        "import matplotlib.patches as patches\n",
        "import tensorflow as tf\n",
        "\n",
        "def test_model(x_test, y_test, model):\n",
        "    n =  random.randint(0, x_test.shape[0])\n",
        "    x = np.expand_dims(x_test[n], 0)\n",
        "    y_pred=model(x)\n",
        "\n",
        "\n",
        "    fig, (ax1, ax2) = plt.subplots(figsize=(6,9), ncols=2)\n",
        "    ax1.set_title('Ground Truth: {}'.format(y_test[n]))\n",
        "    ax1.imshow(x_test[n], \"Greys\")\n",
        "    ax1.axis('off')\n",
        "    ax2.barh(np.arange(10), tf.squeeze(y_pred))\n",
        "    ax2.set_aspect(0.1)\n",
        "    ax2.set_yticks(np.arange(10))\n",
        "    ax2.set_yticklabels(np.arange(10))\n",
        "    ax2.set_title('Class Probability')\n",
        "    ax2.set_xlim(0, 1.1)\n",
        "    plt.tight_layout()\n",
        "\n",
        "test_model(x_test, y_test, lenet)\n",
        "test_model(x_test, y_test, lenet)"
      ]
    },
    {
      "cell_type": "markdown",
      "metadata": {
        "id": "XMYtiwL0aDnk"
      },
      "source": [
        "### Introduction to Keras"
      ]
    },
    {
      "cell_type": "code",
      "source": [
        "RUNNING_IN_COLAB = True\n",
        "\n",
        "if RUNNING_IN_COLAB:\n",
        "    # Uses a private Auth Token, giving read and write access to repo\n",
        "    # TO DELETE IF REPO GOES PUBLIC\n",
        "    REPO_URL = 'https://github.com/Pumafi/geostats_deep_learning.git'\n",
        "    BRANCH   = 'main'\n",
        "    REPO_DIR = 'geostats_deep_learning'\n",
        "\n",
        "    from pathlib import Path\n",
        "\n",
        "    %cd /content\n",
        "\n",
        "    if Path(REPO_DIR).is_dir():\n",
        "      !rm -rf {REPO_DIR}\n",
        "\n",
        "    # Download the repository\n",
        "    if not Path(REPO_DIR).is_dir():\n",
        "        !git clone --branch {BRANCH} --depth=1 -- {REPO_URL} {REPO_DIR}\n",
        "    \n",
        "    %cd {REPO_DIR}"
      ],
      "metadata": {
        "id": "oX0CP2B3aDnm"
      },
      "execution_count": null,
      "outputs": []
    },
    {
      "cell_type": "code",
      "execution_count": null,
      "metadata": {
        "id": "NvqRBtPeaDno"
      },
      "outputs": [],
      "source": [
        "import numpy as np\n",
        "import tensorflow as tf\n",
        "from tensorflow import keras\n",
        "from keras import layers\n",
        "import matplotlib.pyplot as plt"
      ]
    },
    {
      "cell_type": "markdown",
      "metadata": {
        "id": "AtoVfO0oaDnp"
      },
      "source": [
        "### **Keras**\n",
        "\n",
        "Keras is a high level Deep Learning Python library.\n",
        "\n",
        "The main idea behind the Keras Deep Learning lib is that a deep learning model is usually a **directed acyclic graph (DAG) of layers**.\n",
        "\n",
        "Using the different available API, you will be able to build those *graphs of layers.*"
      ]
    },
    {
      "cell_type": "markdown",
      "metadata": {
        "id": "XaVrH8PjaDnp"
      },
      "source": [
        "#### Layers\n",
        "\n"
      ]
    },
    {
      "cell_type": "markdown",
      "metadata": {
        "id": "DtB06vSIaDnq"
      },
      "source": [
        "##### Fully Connected Layers"
      ]
    },
    {
      "cell_type": "code",
      "execution_count": null,
      "metadata": {
        "id": "vVSkVGHpaDnr"
      },
      "outputs": [],
      "source": [
        "!keras.layers.Dense?"
      ]
    },
    {
      "cell_type": "code",
      "execution_count": null,
      "metadata": {
        "id": "RSvSAT_jaDnr"
      },
      "outputs": [],
      "source": [
        "output_size=128\n",
        "activation='sigmoid'\n",
        "\n",
        "fc = # TODO: insert the creation of a Dense layer here"
      ]
    },
    {
      "cell_type": "code",
      "execution_count": null,
      "metadata": {
        "id": "-uZvnq7laDns"
      },
      "outputs": [],
      "source": [
        "# %load Corrections/keras_corr_1.py"
      ]
    },
    {
      "cell_type": "markdown",
      "metadata": {
        "id": "laRXzhydaDns"
      },
      "source": [
        "##### Convolutional Layers"
      ]
    },
    {
      "cell_type": "code",
      "execution_count": null,
      "metadata": {
        "id": "awWudsSWaDnt"
      },
      "outputs": [],
      "source": [
        "!keras.layers.Conv2D?"
      ]
    },
    {
      "cell_type": "code",
      "execution_count": null,
      "metadata": {
        "id": "oWOvPdfWaDnt"
      },
      "outputs": [],
      "source": [
        "output_features=128\n",
        "kernel_size=(3, 3)\n",
        "activation='sigmoid'\n",
        "\n",
        "conv = # TODO: insert the creation of a Conv layer here"
      ]
    },
    {
      "cell_type": "code",
      "execution_count": null,
      "metadata": {
        "id": "DXBUHYA9aDnu"
      },
      "outputs": [],
      "source": [
        "# %load Corrections/keras_corr_2.py"
      ]
    },
    {
      "cell_type": "markdown",
      "metadata": {
        "id": "ykRJGrtbaDnu"
      },
      "source": [
        "#### Functional API\n",
        "\n",
        "The Keras functional API is a way to create models that are more flexible than the tf.keras.Sequential API.\n",
        "\n",
        "The functional API can handle models with non-linear topology, shared layers, and even multiple inputs or outputs.\n",
        "\n",
        "To demonstrate consider the following code, defining a very simple Fully Connected model."
      ]
    },
    {
      "cell_type": "code",
      "execution_count": null,
      "metadata": {
        "id": "1j9-fsQRaDnv"
      },
      "outputs": [],
      "source": [
        "inputs = keras.Input(shape=(50,))\n",
        "\n",
        "# In the Fonctional API, the next layer is defined using LayerClass(*args)(last_layer_outputs)\n",
        "y = keras.layers.Dense(128, activation=\"sigmoid\", name=\"layer1\")(inputs)\n",
        "outputs = keras.layers.Dense(32, activation=\"softmax\", name=\"output\")(y)"
      ]
    },
    {
      "cell_type": "markdown",
      "metadata": {
        "id": "I-mCL_OaaDnw"
      },
      "source": [
        "At this point you can create the Model by specifying the inputs and outputs in the graph of layers\n"
      ]
    },
    {
      "cell_type": "code",
      "execution_count": null,
      "metadata": {
        "id": "7Xmgxq0QaDnw"
      },
      "outputs": [],
      "source": [
        "!keras.Model?"
      ]
    },
    {
      "cell_type": "code",
      "execution_count": null,
      "metadata": {
        "id": "EQthc_cdaDnx"
      },
      "outputs": [],
      "source": [
        "model = keras.Model(inputs=inputs, outputs=outputs, name=\"model\")\n",
        "\n",
        "model.summary()"
      ]
    },
    {
      "cell_type": "code",
      "execution_count": null,
      "metadata": {
        "id": "PmlMmGjuaDny"
      },
      "outputs": [],
      "source": [
        "keras.utils.plot_model(model, \"model.png\", show_shapes=True)"
      ]
    },
    {
      "cell_type": "markdown",
      "metadata": {
        "id": "NwerFZDqaDny"
      },
      "source": [
        "#### Sequential API\n",
        "\n",
        "A Sequential model is appropriate for a plain stack of layers where each layer has exactly one input tensor and one output tensor.\n",
        "\n",
        "Let's define the same model as before but using this new API."
      ]
    },
    {
      "cell_type": "code",
      "execution_count": null,
      "metadata": {
        "id": "UoxmuyrsaDnz"
      },
      "outputs": [],
      "source": [
        "!keras.Sequential?"
      ]
    },
    {
      "cell_type": "code",
      "execution_count": null,
      "metadata": {
        "id": "gX8GGMpjaDn0"
      },
      "outputs": [],
      "source": [
        "# Define Sequential model with 2 layers\n",
        "model = keras.Sequential(\n",
        "    [\n",
        "        keras.layers.Dense(128, activation=\"sigmoid\", name=\"layer1\"),\n",
        "        keras.layers.Dense(32, activation=\"softmax\", name=\"output\"),\n",
        "    ]\n",
        ")\n",
        "# Call model on a test input\n",
        "x = tf.ones((1, 50))\n",
        "y = model(x)"
      ]
    },
    {
      "cell_type": "code",
      "execution_count": null,
      "metadata": {
        "id": "cU6RgPpZaDn1"
      },
      "outputs": [],
      "source": [
        "model.summary()"
      ]
    },
    {
      "cell_type": "code",
      "execution_count": null,
      "metadata": {
        "id": "RrHxtT4EaDn2"
      },
      "outputs": [],
      "source": [
        "keras.utils.plot_model(model, \"model.png\", show_shapes=True)"
      ]
    },
    {
      "cell_type": "markdown",
      "metadata": {
        "id": "nXpUd7XzaDn2"
      },
      "source": [
        "#### Exercise 1 : Simple Feed Forward Network\n",
        "\n",
        "Create a simple feed forward that takes a flattened MNIST input (28x28) and outputs the classification vector.\n",
        "\n",
        "It should have one hidden layer with 100 neurons and a tanh output, and a Dense output layer with a softmax activation."
      ]
    },
    {
      "cell_type": "code",
      "execution_count": null,
      "metadata": {
        "id": "5lQGuYhCaDn8"
      },
      "outputs": [],
      "source": [
        "# TODO: Put your code here\n",
        "# Define Sequential model with those 2 layers\n",
        "# TODO: end"
      ]
    },
    {
      "cell_type": "code",
      "execution_count": null,
      "metadata": {
        "id": "fEQuk779aDn8"
      },
      "outputs": [],
      "source": [
        "# %load Corrections/keras_corr_3.py"
      ]
    },
    {
      "cell_type": "code",
      "execution_count": null,
      "metadata": {
        "id": "3w5Wm8_9aDn9"
      },
      "outputs": [],
      "source": [
        "model.summary()"
      ]
    },
    {
      "cell_type": "code",
      "execution_count": null,
      "metadata": {
        "id": "xTpzIT8MaDn9"
      },
      "outputs": [],
      "source": [
        "keras.utils.plot_model(model, \"model.png\", show_shapes=True)"
      ]
    },
    {
      "cell_type": "markdown",
      "metadata": {
        "id": "vU-CvaD0aDn-"
      },
      "source": [
        "#### Training"
      ]
    },
    {
      "cell_type": "markdown",
      "metadata": {
        "id": "Qn1NVpxWaDn-"
      },
      "source": [
        "First we need to load some data to train our model with"
      ]
    },
    {
      "cell_type": "code",
      "execution_count": null,
      "metadata": {
        "id": "mWP-ZgQyaDn-"
      },
      "outputs": [],
      "source": [
        "# Loading the Mnist dataset\n",
        "(x_train, y_train), (x_test, y_test) = keras.datasets.mnist.load_data()\n",
        "\n",
        "x_train = x_train.reshape(60000, 784).astype(\"float32\") / 255\n",
        "x_test = x_test.reshape(10000, 784).astype(\"float32\") / 255"
      ]
    },
    {
      "cell_type": "markdown",
      "metadata": {
        "id": "wUZkKrI5aDn_"
      },
      "source": [
        "#### Compiling the Model\n",
        "\n",
        "To train a model with fit(), you need to specify a **loss function, an optimizer, and optionally, some metrics to monitor**.\n",
        "\n",
        "You pass these to the model as arguments to the [compile](https://keras.io/api/losses/probabilistic_losses/#binarycrossentropy-class)() method.\n",
        "\n",
        "*   The loss argument is a callable with arguments loss_fn(y_true, y_pred,sample_weight=None). The compile function can also accept some defined string arguments such as: \"*mean_absolute_error*\", \"*mean_squared_error*\", \"*binary_crossentropy*\"...\n",
        "*   Similarly, the optimizer argument can also accept \"*adam*\", \"*sgd*\"...\n",
        "*   The metrics argument should be a list -- your model can have any number of metrics.\n"
      ]
    },
    {
      "cell_type": "code",
      "execution_count": null,
      "metadata": {
        "id": "SnwV8MIpaDn_"
      },
      "outputs": [],
      "source": [
        "model.compile(\n",
        "    loss=\"sparse_categorical_crossentropy\",\n",
        "    optimizer=tf.keras.optimizers.SGD(learning_rate=0.1),\n",
        "    metrics=[\"accuracy\"],\n",
        ")\n",
        "\n",
        "history = model.fit(x_train, y_train, batch_size=32, epochs=15, validation_split=0.2)"
      ]
    },
    {
      "cell_type": "markdown",
      "metadata": {
        "id": "yo5L5_8KaDoA"
      },
      "source": [
        "Let's visualise the convergence"
      ]
    },
    {
      "cell_type": "code",
      "execution_count": null,
      "metadata": {
        "id": "UDRxLTtraDoA"
      },
      "outputs": [],
      "source": [
        "import pandas as pd\n",
        "\n",
        "history_df = pd.DataFrame(history.history)\n",
        "history_df[\"epoch\"] = history.epoch\n",
        "\n",
        "fig, (ax0, ax1) = plt.subplots(nrows=2, sharex=True, figsize=(12, 6))\n",
        "history_df.plot(x=\"epoch\", y=[\"loss\", \"val_loss\"], ax=ax0)\n",
        "history_df.plot(x=\"epoch\", y=[\"accuracy\", \"val_accuracy\"], ax=ax1);"
      ]
    },
    {
      "cell_type": "code",
      "execution_count": null,
      "metadata": {
        "id": "ursb0ZYmaDoB"
      },
      "outputs": [],
      "source": [
        "test_scores = model.evaluate(x_test, y_test, verbose=2)\n",
        "print(\"Test loss:\", test_scores[0])\n",
        "print(\"Test accuracy:\", test_scores[1])"
      ]
    },
    {
      "cell_type": "markdown",
      "metadata": {
        "id": "xWtRsDxVaDoB"
      },
      "source": [
        "#### Exercise 2 : Impact of the Optimiser\n",
        "\n",
        "\n",
        "\n",
        "1.   Try replacing the value of the learning rate by 0.01 or 0.001. What happens ?\n",
        "2.   Try increasing the learning rate until the model diverge. At what lr does the model diverge ?\n",
        "3.   Try adding Nesterov Momentum with a value of 0.8 to SGD. How many epochs does it need to converge ?\n",
        "\n"
      ]
    },
    {
      "cell_type": "code",
      "execution_count": null,
      "metadata": {
        "id": "anzQuT0IaDoB"
      },
      "outputs": [],
      "source": [
        "!keras.optimizers.SGD?"
      ]
    },
    {
      "cell_type": "code",
      "execution_count": null,
      "metadata": {
        "id": "hveLSMKgaDoC"
      },
      "outputs": [],
      "source": [
        "# TODO: Put your code here\n",
        "# TODO: end"
      ]
    },
    {
      "cell_type": "code",
      "execution_count": null,
      "metadata": {
        "id": "y2IL9AOxaDoC"
      },
      "outputs": [],
      "source": [
        "# TODO: Put your code here\n",
        "# TODO: end"
      ]
    },
    {
      "cell_type": "code",
      "execution_count": null,
      "metadata": {
        "id": "_vFjE5MzaDoC"
      },
      "outputs": [],
      "source": [
        "# TODO: Put your code here\n",
        "# TODO: end"
      ]
    },
    {
      "cell_type": "code",
      "execution_count": null,
      "metadata": {
        "id": "v4mGC2PcaDoC"
      },
      "outputs": [],
      "source": [
        "# %load Corrections/keras_corr_4.py"
      ]
    },
    {
      "cell_type": "code",
      "execution_count": null,
      "metadata": {
        "id": "sBCovIP7aDoD"
      },
      "outputs": [],
      "source": [
        "# %load Corrections/keras_corr_5.py"
      ]
    },
    {
      "cell_type": "code",
      "execution_count": null,
      "metadata": {
        "id": "Std7IVZsaDoD"
      },
      "outputs": [],
      "source": [
        "# %load Corrections/keras_corr_6.py"
      ]
    },
    {
      "cell_type": "markdown",
      "metadata": {
        "id": "LUfielbnaDoD"
      },
      "source": [
        "4. Replace SGD by Adam optimizer and run it\n"
      ]
    },
    {
      "cell_type": "code",
      "execution_count": null,
      "metadata": {
        "id": "fAgRkukVaDoD"
      },
      "outputs": [],
      "source": [
        "# TODO: Put your code here\n",
        "# TODO: end"
      ]
    },
    {
      "cell_type": "code",
      "execution_count": null,
      "metadata": {
        "id": "IAgcuZAKaDoE"
      },
      "outputs": [],
      "source": [
        "# %load Corrections/keras_corr_7.py"
      ]
    },
    {
      "cell_type": "markdown",
      "metadata": {
        "id": "esO4CafzaDoE"
      },
      "source": [
        "#### Exercise 3 : Simple MNIST LeNet (Convolutional Networks)\n",
        "\n",
        "[Y. Lecun, 1998](https://ieeexplore.ieee.org/abstract/document/726791)"
      ]
    },
    {
      "cell_type": "markdown",
      "metadata": {
        "id": "BoBDmcziaDoF"
      },
      "source": [
        "    \n",
        "![0*H9_eGAtkQXJXtkoK.png](data:image/png;base64,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)"
      ]
    },
    {
      "cell_type": "markdown",
      "metadata": {
        "id": "M1wfDxLYaDoR"
      },
      "source": [
        "\n",
        "\n",
        "\n",
        "1.   Image Input: 28 (height) x 28 (width) x 1 (channel) \n",
        "2.   Convolution with 5x5 kernel + padding: 28x28x6 \\[sigmoid activation\\]\n",
        "3.   Pooling with 2x2 average kernel: 14x14x6\n",
        "4.   Convolution with 5x5 kernel (no padding): 10x10x16 \\[sigmoid activation\\]\n",
        "5.   Pooling with 2x2 average kernel: 5x5x16\n",
        "6.   Flatten\n",
        "7.   Dense: 120 fully connected neurons \\[sigmoid activation\\]\n",
        "8.   Dense: 84 fully connected neurons \\[sigmoid activation\\]\n",
        "9.   Dense: 10 fully connected neurons \\[softmax activation\\]\n",
        "10.  Output: 1 out of 10 classes\n",
        "\n",
        "\n"
      ]
    },
    {
      "cell_type": "code",
      "execution_count": null,
      "metadata": {
        "id": "QotafG9_aDoR"
      },
      "outputs": [],
      "source": [
        "# Loading the Mnist dataset\n",
        "(x_train, y_train), (x_test, y_test) = keras.datasets.mnist.load_data()\n",
        "\n",
        "x_train = x_train.astype(\"float32\") / 255\n",
        "x_test = x_test.astype(\"float32\") / 255"
      ]
    },
    {
      "cell_type": "code",
      "execution_count": null,
      "metadata": {
        "id": "CJOudV4TaDoS"
      },
      "outputs": [],
      "source": [
        "# TODO: your code goes here [You can use either API for this model]\n",
        "# TODO: end"
      ]
    },
    {
      "cell_type": "code",
      "execution_count": null,
      "metadata": {
        "id": "MGid5ZpWaDoS"
      },
      "outputs": [],
      "source": [
        "# %load Corrections/keras_corr_8.py"
      ]
    },
    {
      "cell_type": "code",
      "execution_count": null,
      "metadata": {
        "id": "_BDugqitaDoT"
      },
      "outputs": [],
      "source": [
        "lenet.summary()"
      ]
    },
    {
      "cell_type": "code",
      "execution_count": null,
      "metadata": {
        "id": "aIX_en2OaDoT"
      },
      "outputs": [],
      "source": [
        "lenet.compile(\n",
        "    loss=\"sparse_categorical_crossentropy\",\n",
        "    optimizer=\"adam\",\n",
        "    metrics=[\"accuracy\"],\n",
        ")\n",
        "\n",
        "history = lenet.fit(x_train, y_train, batch_size=64, epochs=2, validation_split=0.2)"
      ]
    },
    {
      "cell_type": "code",
      "execution_count": null,
      "metadata": {
        "id": "Bul5aGoyaDoU"
      },
      "outputs": [],
      "source": [
        "test_scores = lenet.evaluate(x_test, y_test, verbose=2)\n",
        "print(\"Test loss:\", test_scores[0])\n",
        "print(\"Test accuracy:\", test_scores[1])"
      ]
    },
    {
      "cell_type": "code",
      "execution_count": null,
      "metadata": {
        "id": "5FdmXwbBaDoU"
      },
      "outputs": [],
      "source": [
        "y_pred=lenet(np.expand_dims(x_test[0], 0))\n",
        "y_pred.shape"
      ]
    },
    {
      "cell_type": "code",
      "execution_count": null,
      "metadata": {
        "id": "Polxf2osaDoV"
      },
      "outputs": [],
      "source": [
        "import random\n",
        "import matplotlib.patches as patches\n",
        "import tensorflow as tf\n",
        "\n",
        "def test_model(x_test, y_test, model):\n",
        "    n =  random.randint(0, x_test.shape[0])\n",
        "    x = np.expand_dims(x_test[n], 0)\n",
        "    y_pred=model(x)\n",
        "\n",
        "\n",
        "    fig, (ax1, ax2) = plt.subplots(figsize=(6,9), ncols=2)\n",
        "    ax1.set_title('Ground Truth: {}'.format(y_test[n]))\n",
        "    ax1.imshow(x_test[n], \"Greys\")\n",
        "    ax1.axis('off')\n",
        "    ax2.barh(np.arange(10), tf.squeeze(y_pred))\n",
        "    ax2.set_aspect(0.1)\n",
        "    ax2.set_yticks(np.arange(10))\n",
        "    ax2.set_yticklabels(np.arange(10))\n",
        "    ax2.set_title('Class Probability')\n",
        "    ax2.set_xlim(0, 1.1)\n",
        "    plt.tight_layout()\n",
        "\n",
        "test_model(x_test, y_test, lenet)\n",
        "test_model(x_test, y_test, lenet)"
      ]
    },
    {
      "cell_type": "code",
      "execution_count": null,
      "metadata": {
        "id": "VuD5ld6vYwc4"
      },
      "outputs": [],
      "source": [
        "# %load Corrections/encoder_corr_2.py"
      ]
    },
    {
      "cell_type": "code",
      "execution_count": null,
      "metadata": {
        "id": "JK-ipzPtBrMX"
      },
      "outputs": [],
      "source": [
        "keras.utils.plot_model(autoencoder.encoder, \"autoencoder_encoder.png\", show_shapes=True)"
      ]
    },
    {
      "cell_type": "code",
      "execution_count": null,
      "metadata": {
        "id": "ChirtIfpCxEy"
      },
      "outputs": [],
      "source": [
        "keras.utils.plot_model(autoencoder.decoder, \"autoencoder_decoder.png\", show_shapes=True)"
      ]
    },
    {
      "cell_type": "markdown",
      "metadata": {
        "id": "7oJSeMTroABs"
      },
      "source": [
        "##### Train the model.\n",
        "\n",
        "The `encoder` will learn to compress the dataset from 784 dimensions to the latent space, and the `decoder` will learn to reconstruct the original images.\n",
        "\n",
        "***What is the input and what is the target in this model ?***\n",
        "\n",
        "***What do you use as validation data ?***\n",
        "\n",
        "Use the [fit method](https://keras.io/api/models/model_training_apis/), and enable shuffling."
      ]
    },
    {
      "cell_type": "code",
      "execution_count": null,
      "metadata": {
        "id": "h1RI9OfHDBsK"
      },
      "outputs": [],
      "source": [
        "epochs=20\n",
        "\n",
        "# TODO: your code starts here\n",
        "# TODO: your code ends here"
      ]
    },
    {
      "cell_type": "code",
      "execution_count": null,
      "metadata": {
        "id": "qzVcUG4aYwdC"
      },
      "outputs": [],
      "source": [
        "# %load Corrections/encoder_corr_3.py"
      ]
    },
    {
      "cell_type": "markdown",
      "metadata": {
        "id": "wAM1QBhtoC-n"
      },
      "source": [
        "Now that the model is trained, let's test it by encoding and decoding images from the test set."
      ]
    },
    {
      "cell_type": "code",
      "execution_count": null,
      "metadata": {
        "id": "Pbr5WCj7FQUi"
      },
      "outputs": [],
      "source": [
        "encoded_imgs = autoencoder.encoder(x_test).numpy()\n",
        "decoded_imgs = autoencoder.decoder(encoded_imgs).numpy()"
      ]
    },
    {
      "cell_type": "code",
      "execution_count": null,
      "metadata": {
        "id": "s4LlDOS6FUA1"
      },
      "outputs": [],
      "source": [
        "n = 10\n",
        "plt.figure(figsize=(20, 4))\n",
        "for i in range(n):\n",
        "  # display original\n",
        "  ax = plt.subplot(2, n, i + 1)\n",
        "  plt.imshow(np.squeeze(x_test[i]))\n",
        "  plt.title(\"original\")\n",
        "  plt.gray()\n",
        "  ax.get_xaxis().set_visible(False)\n",
        "  ax.get_yaxis().set_visible(False)\n",
        "\n",
        "  # display reconstruction\n",
        "  ax = plt.subplot(2, n, i + 1 + n)\n",
        "  plt.imshow(np.squeeze(decoded_imgs[i]))\n",
        "  plt.title(\"reconstructed\")\n",
        "  plt.gray()\n",
        "  ax.get_xaxis().set_visible(False)\n",
        "  ax.get_yaxis().set_visible(False)\n",
        "plt.show()"
      ]
    },
    {
      "cell_type": "code",
      "execution_count": null,
      "metadata": {
        "id": "DIBqR7jOTKbk"
      },
      "outputs": [],
      "source": [
        "data_visu = autoencoder.encoder(x_train)\n",
        "data_visu.shape"
      ]
    },
    {
      "cell_type": "markdown",
      "metadata": {
        "id": "8Mqx-_FrytlH"
      },
      "source": [
        "#### Visualising the latent space through PCA"
      ]
    },
    {
      "cell_type": "code",
      "execution_count": null,
      "metadata": {
        "id": "yhGucL_WZEMV"
      },
      "outputs": [],
      "source": [
        "# https://matplotlib.org/stable/tutorials/colors/colormaps.html\n",
        "\n",
        "cmaps = {}\n",
        "\n",
        "gradient = np.linspace(0, 1, 256)\n",
        "gradient = np.vstack((gradient, gradient))\n",
        "\n",
        "\n",
        "def plot_color_gradients(category, cmap_list):\n",
        "    # Create figure and adjust figure height to number of colormaps\n",
        "    nrows = len(cmap_list)\n",
        "    figh = 0.35 + 0.15 + (nrows + (nrows - 1) * 0.1) * 0.22\n",
        "    fig, axs = plt.subplots(nrows=nrows + 1, figsize=(15, 5))\n",
        "    fig.subplots_adjust(top=1 - 0.35 / figh, bottom=0.15 / figh,\n",
        "                        left=0.2, right=0.99)\n",
        "    axs[0].set_title(f'Colormap Legend', fontsize=14)\n",
        "\n",
        "    for ax, name in zip(axs, cmap_list):\n",
        "        ax.imshow(gradient, aspect='auto', cmap=plt.get_cmap(name))\n",
        "        for i in range(10):\n",
        "            ax.text(0.03+i*0.1, 0.5, i, va='center', ha='right', fontsize=10, transform=ax.transAxes)\n",
        "    \n",
        "\n",
        "    # Turn off *all* ticks & spines, not just the ones with colormaps.\n",
        "    for ax in axs:\n",
        "        ax.set_axis_off()\n",
        "\n",
        "    # Save colormap list for later.\n",
        "    cmaps[category] = cmap_list\n"
      ]
    },
    {
      "cell_type": "code",
      "execution_count": null,
      "metadata": {
        "id": "YJkjH1lKRdKO"
      },
      "outputs": [],
      "source": [
        "from sklearn.cluster import KMeans\n",
        "from sklearn.decomposition import PCA\n",
        "\n",
        "reduced_data = PCA(n_components=3).fit_transform(data_visu)\n",
        "fig = plt.figure(figsize=(15, 15))\n",
        "ax = fig.add_subplot(projection='3d')\n",
        "ax.scatter(reduced_data[:, 0], reduced_data[:, 1], reduced_data[:, 2], c=y_train, cmap=\"tab10\")\n",
        "\n",
        "plot_color_gradients('Qualitative', ['tab10'])\n",
        "\n"
      ]
    },
    {
      "cell_type": "markdown",
      "metadata": {
        "id": "r4gv6G8PoRQE"
      },
      "source": [
        "## Second example: Image denoising\n",
        "\n",
        "\n",
        "An autoencoder can also be trained to remove noise from images. In the following section, you will create a noisy version of the Fashion MNIST dataset by applying random noise to each image. You will then train an autoencoder using the noisy image as input, and the original image as the target.\n",
        "\n",
        "Let's import a new dataset."
      ]
    },
    {
      "cell_type": "markdown",
      "metadata": {
        "id": "iYn4MdZnKCey"
      },
      "source": [
        "## Load the dataset\n",
        "To start, you will train the basic autoencoder using the Fashion MNIST dataset. Each image in this dataset is 28x28 pixels. "
      ]
    },
    {
      "cell_type": "code",
      "execution_count": null,
      "metadata": {
        "id": "YZm503-I_tji"
      },
      "outputs": [],
      "source": [
        "(x_train, _), (x_test, _) = fashion_mnist.load_data()\n",
        "\n",
        "x_train = x_train.astype('float32') / 255.\n",
        "x_test = x_test.astype('float32') / 255.\n",
        "\n",
        "print (x_train.shape)\n",
        "print (x_test.shape)"
      ]
    },
    {
      "cell_type": "code",
      "execution_count": null,
      "metadata": {
        "id": "gDYHJA2PCQ3m"
      },
      "outputs": [],
      "source": [
        "(x_train, _), (x_test, _) = fashion_mnist.load_data()"
      ]
    },
    {
      "cell_type": "code",
      "execution_count": null,
      "metadata": {
        "id": "uJZ-TcaqDBr5"
      },
      "outputs": [],
      "source": [
        "x_train = x_train.astype('float32') / 255.\n",
        "x_test = x_test.astype('float32') / 255.\n",
        "\n",
        "x_train = x_train[..., tf.newaxis]\n",
        "x_test = x_test[..., tf.newaxis]\n",
        "\n",
        "print(x_train.shape)"
      ]
    },
    {
      "cell_type": "markdown",
      "metadata": {
        "id": "aPZl_6P65_8R"
      },
      "source": [
        "Adding random noise to the images"
      ]
    },
    {
      "cell_type": "markdown",
      "metadata": {
        "id": "-DqQ482g7qdx"
      },
      "source": [
        "Add random noise to the Training and Validation data using the following formula:\n",
        "\n",
        "X + noise_factor * $N(0, 1)$\n",
        "\n",
        "The noise factor determines the strengh of the noise."
      ]
    },
    {
      "cell_type": "code",
      "execution_count": null,
      "metadata": {
        "id": "axSMyxC354fc"
      },
      "outputs": [],
      "source": [
        "noise_factor = 0.2\n",
        "x_train_noisy = x_train + noise_factor * tf.random.normal(shape=x_train.shape) \n",
        "x_test_noisy = x_test + noise_factor * tf.random.normal(shape=x_test.shape) \n",
        "\n",
        "x_train_noisy = tf.clip_by_value(x_train_noisy, clip_value_min=0., clip_value_max=1.)\n",
        "x_test_noisy = tf.clip_by_value(x_test_noisy, clip_value_min=0., clip_value_max=1.)"
      ]
    },
    {
      "cell_type": "markdown",
      "metadata": {
        "id": "wRxHe4XXltNd"
      },
      "source": [
        "Plot the noisy images.\n"
      ]
    },
    {
      "cell_type": "code",
      "execution_count": null,
      "metadata": {
        "id": "thKUmbVVCQpt"
      },
      "outputs": [],
      "source": [
        "n = 10\n",
        "plt.figure(figsize=(20, 2))\n",
        "for i in range(n):\n",
        "    ax = plt.subplot(1, n, i + 1)\n",
        "    plt.title(\"original + noise\")\n",
        "    plt.imshow(tf.squeeze(x_test_noisy[i]))\n",
        "    plt.gray()\n",
        "plt.show()"
      ]
    },
    {
      "cell_type": "markdown",
      "metadata": {
        "id": "Sy9SY8jGl5aP"
      },
      "source": [
        "### Define a convolutional autoencoder"
      ]
    },
    {
      "cell_type": "markdown",
      "metadata": {
        "id": "vT_BhZngWMwp"
      },
      "source": [
        "In this example, you will train a convolutional autoencoder using  [Conv2D](https://www.tensorflow.org/api_docs/python/tf/keras/layers/Conv2D) layers in the `encoder`, and [Conv2DTranspose](https://www.tensorflow.org/api_docs/python/tf/keras/layers/Conv2DTranspose) layers in the `decoder`.\n",
        "\n",
        "Before coding, think about your architecture. Do you need padding ? How do you Upsample from the latent space and Downsample the image (maybe the `strides` parameter of Convolutions can help)?\n",
        "\n",
        "Use a ReLU activation in the hidden layers, but a sigmoid as output activation.\n",
        "\n",
        "The whole model should be Fully Convolutional (no Flatten or Dense). Use (3x3) Convolution Kernels.\n"
      ]
    },
    {
      "cell_type": "code",
      "execution_count": null,
      "metadata": {
        "id": "R5KjoIlYCQko"
      },
      "outputs": [],
      "source": [
        "class Denoise(Model):\n",
        "  # TODO: your code goes here (check the previous model if you don't rmbr how to do)\n",
        "  # TODO: your code ends here\n",
        "\n",
        "autoencoder = Denoise()"
      ]
    },
    {
      "cell_type": "code",
      "execution_count": null,
      "metadata": {
        "id": "Ef5a3UguYwdQ"
      },
      "outputs": [],
      "source": [
        "# %load Corrections/encoder_corr_4.py"
      ]
    },
    {
      "cell_type": "code",
      "execution_count": null,
      "metadata": {
        "id": "QYKbiDFYCQfj"
      },
      "outputs": [],
      "source": [
        "autoencoder.compile(optimizer='adam', loss=losses.MeanSquaredError())"
      ]
    },
    {
      "cell_type": "code",
      "execution_count": null,
      "metadata": {
        "id": "IssFr1BNCQX3"
      },
      "outputs": [],
      "source": [
        "autoencoder.fit(x_train_noisy, x_train,\n",
        "                epochs=5,\n",
        "                shuffle=True,\n",
        "                validation_data=(x_test_noisy, x_test))"
      ]
    },
    {
      "cell_type": "markdown",
      "metadata": {
        "id": "G85xUVBGTAKp"
      },
      "source": [
        "Let's take a look at a summary of the encoder. Notice how the images are downsampled from 28x28 to 7x7."
      ]
    },
    {
      "cell_type": "code",
      "execution_count": null,
      "metadata": {
        "id": "oEpxlX6sTEQz"
      },
      "outputs": [],
      "source": [
        "autoencoder.encoder.summary()"
      ]
    },
    {
      "cell_type": "markdown",
      "metadata": {
        "id": "DDZBfMx1UtXx"
      },
      "source": [
        "The decoder upsamples the images back from 7x7 to 28x28."
      ]
    },
    {
      "cell_type": "code",
      "execution_count": null,
      "metadata": {
        "id": "pbeQtYMaUpro"
      },
      "outputs": [],
      "source": [
        "autoencoder.decoder.summary()"
      ]
    },
    {
      "cell_type": "markdown",
      "metadata": {
        "id": "A7-VAuEy_N6M"
      },
      "source": [
        "Plotting both the noisy images and the denoised images produced by the autoencoder."
      ]
    },
    {
      "cell_type": "code",
      "execution_count": null,
      "metadata": {
        "id": "t5IyPi1fCQQz"
      },
      "outputs": [],
      "source": [
        "encoded_imgs = autoencoder.encoder(x_test).numpy()\n",
        "decoded_imgs = autoencoder.decoder(encoded_imgs).numpy()"
      ]
    },
    {
      "cell_type": "code",
      "execution_count": null,
      "metadata": {
        "id": "sfxr9NdBCP_x"
      },
      "outputs": [],
      "source": [
        "n = 10\n",
        "plt.figure(figsize=(20, 4))\n",
        "for i in range(n):\n",
        "\n",
        "    # display original + noise\n",
        "    ax = plt.subplot(2, n, i + 1)\n",
        "    plt.title(\"original + noise\")\n",
        "    plt.imshow(tf.squeeze(x_test_noisy[i]))\n",
        "    plt.gray()\n",
        "    ax.get_xaxis().set_visible(False)\n",
        "    ax.get_yaxis().set_visible(False)\n",
        "\n",
        "    # display reconstruction\n",
        "    bx = plt.subplot(2, n, i + n + 1)\n",
        "    plt.title(\"reconstructed\")\n",
        "    plt.imshow(tf.squeeze(decoded_imgs[i]))\n",
        "    plt.gray()\n",
        "    bx.get_xaxis().set_visible(False)\n",
        "    bx.get_yaxis().set_visible(False)\n",
        "plt.show()"
      ]
    },
    {
      "cell_type": "markdown",
      "metadata": {
        "id": "ErGrTnWHoUYl"
      },
      "source": [
        "## Third example: Anomaly detection\n",
        "\n",
        "## Overview\n",
        "\n",
        "\n",
        "In this example, you will train an autoencoder to detect anomalies on the [ECG5000 dataset](http://www.timeseriesclassification.com/description.php?Dataset=ECG5000). This dataset contains 5,000 [Electrocardiograms](https://en.wikipedia.org/wiki/Electrocardiography), each with 140 data points. You will use a simplified version of the dataset, where each example has been labeled either `0` (corresponding to an abnormal rhythm), or `1` (corresponding to a normal rhythm). You are interested in identifying the abnormal rhythms.\n",
        "\n",
        "Note: This is a labeled dataset, so you could phrase this as a supervised learning problem. The goal of this example is to illustrate anomaly detection concepts you can apply to larger datasets, where you do not have labels available (for example, if you had many thousands of normal rhythms, and only a small number of abnormal rhythms).\n",
        "\n",
        "How will you detect anomalies using an autoencoder? Recall that an autoencoder is trained to minimize reconstruction error. You will train an autoencoder on the normal rhythms only, then use it to reconstruct all the data. Our hypothesis is that the abnormal rhythms will have higher reconstruction error. You will then classify a rhythm as an anomaly if the reconstruction error surpasses a fixed threshold."
      ]
    },
    {
      "cell_type": "markdown",
      "metadata": {
        "id": "i5estNaur_Mh"
      },
      "source": [
        "### Load ECG data"
      ]
    },
    {
      "cell_type": "markdown",
      "metadata": {
        "id": "y35nsXLPsDNX"
      },
      "source": [
        "The dataset you will use is based on one from [timeseriesclassification.com](http://www.timeseriesclassification.com/description.php?Dataset=ECG5000).\n"
      ]
    },
    {
      "cell_type": "code",
      "execution_count": null,
      "metadata": {
        "id": "KmKRDJWgsFYa"
      },
      "outputs": [],
      "source": [
        "# Download the dataset\n",
        "dataframe = pd.read_csv('http://storage.googleapis.com/download.tensorflow.org/data/ecg.csv', header=None)\n",
        "raw_data = dataframe.values\n",
        "dataframe.head()"
      ]
    },
    {
      "cell_type": "code",
      "execution_count": null,
      "metadata": {
        "id": "UmuCPVYKsKKx"
      },
      "outputs": [],
      "source": [
        "# The last element contains the labels\n",
        "labels = raw_data[:, -1]\n",
        "\n",
        "# The other data points are the electrocadriogram data\n",
        "data = raw_data[:, 0:-1]\n",
        "\n",
        "train_data, test_data, train_labels, test_labels = train_test_split(\n",
        "    data, labels, test_size=0.2, random_state=21\n",
        ")"
      ]
    },
    {
      "cell_type": "markdown",
      "metadata": {
        "id": "byK2vP7hsMbz"
      },
      "source": [
        "Normalize the data to `[0,1]`.\n"
      ]
    },
    {
      "cell_type": "code",
      "execution_count": null,
      "metadata": {
        "id": "tgMZVWRKsPx6"
      },
      "outputs": [],
      "source": [
        "min_val = tf.reduce_min(train_data)\n",
        "max_val = tf.reduce_max(train_data)\n",
        "\n",
        "train_data = (train_data - min_val) / (max_val - min_val)\n",
        "test_data = (test_data - min_val) / (max_val - min_val)\n",
        "\n",
        "train_data = tf.cast(train_data, tf.float32)\n",
        "test_data = tf.cast(test_data, tf.float32)"
      ]
    },
    {
      "cell_type": "markdown",
      "metadata": {
        "id": "BdSYr2IPsTiz"
      },
      "source": [
        "You will train the autoencoder using only the normal rhythms, which are labeled in this dataset as `1`. Separate the normal rhythms from the abnormal rhythms."
      ]
    },
    {
      "cell_type": "code",
      "execution_count": null,
      "metadata": {
        "id": "VvK4NRe8sVhE"
      },
      "outputs": [],
      "source": [
        "train_labels = train_labels.astype(bool)\n",
        "test_labels = test_labels.astype(bool)\n",
        "\n",
        "normal_train_data = train_data[train_labels]\n",
        "normal_test_data = test_data[test_labels]\n",
        "\n",
        "anomalous_train_data = train_data[~train_labels]\n",
        "anomalous_test_data = test_data[~test_labels]"
      ]
    },
    {
      "cell_type": "markdown",
      "metadata": {
        "id": "wVcTBDo-CqFS"
      },
      "source": [
        "Plot a normal ECG. "
      ]
    },
    {
      "cell_type": "code",
      "execution_count": null,
      "metadata": {
        "id": "ZTlMIrpmseYe"
      },
      "outputs": [],
      "source": [
        "plt.grid()\n",
        "plt.plot(np.arange(140), normal_train_data[0])\n",
        "plt.title(\"A Normal ECG\")\n",
        "plt.show()"
      ]
    },
    {
      "cell_type": "markdown",
      "metadata": {
        "id": "QpI9by2ZA0NN"
      },
      "source": [
        "Plot an anomalous ECG."
      ]
    },
    {
      "cell_type": "code",
      "execution_count": null,
      "metadata": {
        "id": "zrpXREF2siBr"
      },
      "outputs": [],
      "source": [
        "plt.grid()\n",
        "plt.plot(np.arange(140), anomalous_train_data[0])\n",
        "plt.title(\"An Anomalous ECG\")\n",
        "plt.show()"
      ]
    },
    {
      "cell_type": "markdown",
      "metadata": {
        "id": "0DS6QKZJslZz"
      },
      "source": [
        "### Build the model"
      ]
    },
    {
      "cell_type": "code",
      "execution_count": null,
      "metadata": {
        "id": "bf6owZQDsp9y"
      },
      "outputs": [],
      "source": [
        "class AnomalyDetector(Model):\n",
        "  def __init__(self):\n",
        "    super(AnomalyDetector, self).__init__()\n",
        "    self.encoder = tf.keras.Sequential([\n",
        "      layers.Dense(32, activation=\"relu\"),\n",
        "      layers.Dense(16, activation=\"relu\"),\n",
        "      layers.Dense(8, activation=\"relu\")])\n",
        "    \n",
        "    self.decoder = tf.keras.Sequential([\n",
        "      layers.Dense(16, activation=\"relu\"),\n",
        "      layers.Dense(32, activation=\"relu\"),\n",
        "      layers.Dense(140, activation=\"sigmoid\")])\n",
        "    \n",
        "  def call(self, x):\n",
        "    encoded = self.encoder(x)\n",
        "    decoded = self.decoder(encoded)\n",
        "    return decoded\n",
        "\n",
        "autoencoder = AnomalyDetector()"
      ]
    },
    {
      "cell_type": "code",
      "execution_count": null,
      "metadata": {
        "id": "gwRpBBbg463S"
      },
      "outputs": [],
      "source": [
        "autoencoder.compile(optimizer='adam', loss='mae')"
      ]
    },
    {
      "cell_type": "markdown",
      "metadata": {
        "id": "zuTy60STBEy4"
      },
      "source": [
        "Notice that the autoencoder is trained using only the normal ECGs, but is evaluated using the full test set."
      ]
    },
    {
      "cell_type": "code",
      "execution_count": null,
      "metadata": {
        "id": "V6NFSs-jsty2"
      },
      "outputs": [],
      "source": [
        "history = autoencoder.fit(normal_train_data, normal_train_data, \n",
        "          epochs=20, \n",
        "          batch_size=512,\n",
        "          validation_data=(test_data, test_data),\n",
        "          shuffle=True)"
      ]
    },
    {
      "cell_type": "markdown",
      "metadata": {
        "id": "EoygqnCr5gxH"
      },
      "source": [
        "Plot the loss and the validation loss using the history dictionary returned by the `fit` function."
      ]
    },
    {
      "cell_type": "code",
      "execution_count": null,
      "metadata": {
        "id": "OEexphFwwTQS"
      },
      "outputs": [],
      "source": [
        "plt.plot(history.history[\"loss\"], label=\"Training Loss\")\n",
        "plt.plot(history.history[\"val_loss\"], label=\"Validation Loss\")\n",
        "plt.legend()"
      ]
    },
    {
      "cell_type": "markdown",
      "metadata": {
        "id": "ceI5lKv1BT-A"
      },
      "source": [
        "You will soon classify an ECG as anomalous if the reconstruction error is greater than one standard deviation from the normal training examples. First, let's plot a normal ECG from the training set, the reconstruction after it's encoded and decoded by the autoencoder, and the reconstruction error."
      ]
    },
    {
      "cell_type": "code",
      "execution_count": null,
      "metadata": {
        "id": "hmsk4DuktxJ2"
      },
      "outputs": [],
      "source": [
        "encoded_data = autoencoder.encoder(normal_test_data).numpy()\n",
        "decoded_data = autoencoder.decoder(encoded_data).numpy()\n",
        "\n",
        "plt.plot(normal_test_data[0], 'b')\n",
        "plt.plot(decoded_data[0], 'r')\n",
        "plt.fill_between(np.arange(140), decoded_data[0], normal_test_data[0], color='lightcoral')\n",
        "plt.legend(labels=[\"Input\", \"Reconstruction\", \"Error\"])\n",
        "plt.show()"
      ]
    },
    {
      "cell_type": "markdown",
      "metadata": {
        "id": "ocA_q9ufB_aF"
      },
      "source": [
        "Create a similar plot, this time for an anomalous test example."
      ]
    },
    {
      "cell_type": "code",
      "execution_count": null,
      "metadata": {
        "id": "vNFTuPhLwTBn"
      },
      "outputs": [],
      "source": [
        "encoded_data = autoencoder.encoder(anomalous_test_data).numpy()\n",
        "decoded_data = autoencoder.decoder(encoded_data).numpy()\n",
        "\n",
        "plt.plot(anomalous_test_data[0], 'b')\n",
        "plt.plot(decoded_data[0], 'r')\n",
        "plt.fill_between(np.arange(140), decoded_data[0], anomalous_test_data[0], color='lightcoral')\n",
        "plt.legend(labels=[\"Input\", \"Reconstruction\", \"Error\"])\n",
        "plt.show()"
      ]
    },
    {
      "cell_type": "markdown",
      "metadata": {
        "id": "ocimg3MBswdS"
      },
      "source": [
        "### Detect anomalies"
      ]
    },
    {
      "cell_type": "markdown",
      "metadata": {
        "id": "Xnh8wmkDsypN"
      },
      "source": [
        "Detect anomalies by calculating whether the reconstruction loss is greater than a fixed threshold. In this tutorial, you will calculate the mean average error for normal examples from the training set, then classify future examples as anomalous if the reconstruction error is higher than one standard deviation from the training set.\n"
      ]
    },
    {
      "cell_type": "markdown",
      "metadata": {
        "id": "TeuT8uTA5Y_w"
      },
      "source": [
        "Plot the reconstruction error on normal ECGs from the training set"
      ]
    },
    {
      "cell_type": "code",
      "execution_count": null,
      "metadata": {
        "id": "N7FltOnHu4-l"
      },
      "outputs": [],
      "source": [
        "reconstructions = autoencoder.predict(normal_train_data)\n",
        "train_loss = tf.keras.losses.mae(reconstructions, normal_train_data)\n",
        "\n",
        "plt.hist(train_loss[None,:], bins=50)\n",
        "plt.xlabel(\"Train loss\")\n",
        "plt.ylabel(\"No of examples\")\n",
        "plt.show()"
      ]
    },
    {
      "cell_type": "markdown",
      "metadata": {
        "id": "mh-3ChEF5hog"
      },
      "source": [
        "Choose a threshold value that is one standard deviations above the mean."
      ]
    },
    {
      "cell_type": "code",
      "execution_count": null,
      "metadata": {
        "id": "82hkl0Chs3P_"
      },
      "outputs": [],
      "source": [
        "threshold = np.mean(train_loss) + np.std(train_loss)\n",
        "print(\"Threshold: \", threshold)"
      ]
    },
    {
      "cell_type": "markdown",
      "metadata": {
        "id": "uEGlA1Be50Nj"
      },
      "source": [
        "Note: There are other strategies you could use to select a threshold value above which test examples should be classified as anomalous, the correct approach will depend on your dataset. You can learn more with the links at the end of this tutorial. "
      ]
    },
    {
      "cell_type": "markdown",
      "metadata": {
        "id": "zpLSDAeb51D_"
      },
      "source": [
        "If you examine the reconstruction error for the anomalous examples in the test set, you'll notice most have greater reconstruction error than the threshold. By varing the threshold, you can adjust the [precision](https://developers.google.com/machine-learning/glossary#precision) and [recall](https://developers.google.com/machine-learning/glossary#recall) of your classifier. "
      ]
    },
    {
      "cell_type": "code",
      "execution_count": null,
      "metadata": {
        "id": "sKVwjQK955Wy"
      },
      "outputs": [],
      "source": [
        "reconstructions = autoencoder.predict(anomalous_test_data)\n",
        "test_loss = tf.keras.losses.mae(reconstructions, anomalous_test_data)\n",
        "\n",
        "plt.hist(test_loss[None, :], bins=50)\n",
        "plt.xlabel(\"Test loss\")\n",
        "plt.ylabel(\"No of examples\")\n",
        "plt.show()"
      ]
    },
    {
      "cell_type": "markdown",
      "metadata": {
        "id": "PFVk_XGE6AX2"
      },
      "source": [
        "Classify an ECG as an anomaly if the reconstruction error is greater than the threshold."
      ]
    },
    {
      "cell_type": "code",
      "execution_count": null,
      "metadata": {
        "id": "mkgJZfhh6CHr"
      },
      "outputs": [],
      "source": [
        "def predict(model, data, threshold):\n",
        "  reconstructions = model(data)\n",
        "  loss = tf.keras.losses.mae(reconstructions, data)\n",
        "  return tf.math.less(loss, threshold)\n",
        "\n",
        "def print_stats(predictions, labels):\n",
        "  print(\"Accuracy = {}\".format(accuracy_score(labels, predictions)))\n",
        "  print(\"Precision = {}\".format(precision_score(labels, predictions)))\n",
        "  print(\"Recall = {}\".format(recall_score(labels, predictions)))"
      ]
    },
    {
      "cell_type": "code",
      "execution_count": null,
      "metadata": {
        "id": "sOcfXfXq6FBd"
      },
      "outputs": [],
      "source": [
        "preds = predict(autoencoder, test_data, threshold)\n",
        "print_stats(preds, test_labels)"
      ]
    }
  ],
  "metadata": {
    "colab": {
      "collapsed_sections": [],
      "name": "TP Autoencoders.ipynb",
      "provenance": [],
      "include_colab_link": true
    },
    "kernelspec": {
      "display_name": "Python 3 (ipykernel)",
      "language": "python",
      "name": "python3"
    },
    "language_info": {
      "codemirror_mode": {
        "name": "ipython",
        "version": 3
      },
      "file_extension": ".py",
      "mimetype": "text/x-python",
      "name": "python",
      "nbconvert_exporter": "python",
      "pygments_lexer": "ipython3",
      "version": "3.10.0"
    }
  },
  "nbformat": 4,
  "nbformat_minor": 0
}