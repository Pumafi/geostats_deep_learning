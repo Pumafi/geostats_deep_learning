{
  "nbformat": 4,
  "nbformat_minor": 0,
  "metadata": {
    "colab": {
      "name": "TP Cours BackProp.ipynb",
      "provenance": [],
      "collapsed_sections": []
    },
    "kernelspec": {
      "name": "python3",
      "display_name": "Python 3"
    },
    "language_info": {
      "name": "python"
    }
  },
  "cells": [
    {
      "cell_type": "markdown",
      "source": [
        "## Introduction to Neural Networks\n"
      ],
      "metadata": {
        "id": "S4EboApQrnqk"
      }
    },
    {
      "cell_type": "markdown",
      "source": [
        "## Requirements"
      ],
      "metadata": {
        "id": "0kcCg_zB30-P"
      }
    },
    {
      "cell_type": "code",
      "source": [
        "!pip install mnist"
      ],
      "metadata": {
        "colab": {
          "base_uri": "https://localhost:8080/"
        },
        "id": "s7oNF6wTrryA",
        "outputId": "3fe0cdec-076b-462c-ebdb-987bd085d135"
      },
      "execution_count": null,
      "outputs": [
        {
          "output_type": "stream",
          "name": "stdout",
          "text": [
            "Requirement already satisfied: mnist in /usr/local/lib/python3.7/dist-packages (0.2.2)\n",
            "Requirement already satisfied: numpy in /usr/local/lib/python3.7/dist-packages (from mnist) (1.19.5)\n"
          ]
        }
      ]
    },
    {
      "cell_type": "code",
      "source": [
        "import numpy as np\n",
        "import copy\n",
        "import matplotlib.pyplot as plt\n",
        "import sys "
      ],
      "metadata": {
        "id": "uumQl4vqrzhw"
      },
      "execution_count": null,
      "outputs": []
    },
    {
      "cell_type": "markdown",
      "source": [
        "### Automatic differentiation"
      ],
      "metadata": {
        "id": "7P4HyLtvrvKJ"
      }
    },
    {
      "cell_type": "markdown",
      "source": [
        "The autograd package allows automatic differentiation.\n",
        "\n",
        "**Example :**\n",
        "\n",
        "$$f(x) = 2\\sqrt{x} + 1$$\n",
        "\n",
        "$$f'(x) = \\frac{1}{\\sqrt{x}}$$"
      ],
      "metadata": {
        "id": "gM3vkA_AsICP"
      }
    },
    {
      "cell_type": "code",
      "source": [
        "# Imports\n",
        "\n",
        "import autograd\n",
        "import autograd.numpy as np"
      ],
      "metadata": {
        "id": "tz_rS6tJsei7"
      },
      "execution_count": null,
      "outputs": []
    },
    {
      "cell_type": "code",
      "source": [
        "# Example\n",
        "\n",
        "def test_function(x):\n",
        "    return 2.* np.sqrt(x) + 1.\n",
        "\n",
        "def hardcoded_derivative(x):\n",
        "    return 1 / np.sqrt(x)\n",
        "\n",
        "autograd_derivative = autograd.grad(test_function)"
      ],
      "metadata": {
        "id": "FTBJESFir96C"
      },
      "execution_count": null,
      "outputs": []
    },
    {
      "cell_type": "code",
      "source": [
        "# Verify that the autograd derivative andhardcoded derivative are equal to the 14th decimals\n",
        "assert round(autograd_derivative(2.), 14) == round(hardcoded_derivative(2.), 14)\n",
        "\n",
        "print(autograd_derivative(2.)) # Round up\n",
        "print(hardcoded_derivative(2.)) # Round down"
      ],
      "metadata": {
        "colab": {
          "base_uri": "https://localhost:8080/"
        },
        "id": "vFzqOx9ytNt8",
        "outputId": "29e7fac2-cb14-49ef-9a5a-920ca2d1c409"
      },
      "execution_count": null,
      "outputs": [
        {
          "output_type": "stream",
          "name": "stdout",
          "text": [
            "0.7071067811865476\n",
            "0.7071067811865475\n"
          ]
        }
      ]
    },
    {
      "cell_type": "markdown",
      "source": [
        "### Display **functions**"
      ],
      "metadata": {
        "id": "iQ_wHRtxuReG"
      }
    },
    {
      "cell_type": "code",
      "source": [
        "def displayFunc(f, xmin=-5., xmax=5., by=0.02):\n",
        "    \"\"\"\n",
        "    Display the function f and its derivative f' between\n",
        "    intervalle xmin and xmax with step by\n",
        "\n",
        "    This function uses the Abstract Class Function which\n",
        "    will be defined a bit further down.\n",
        "    \"\"\"\n",
        "    t = np.arange(xmin, xmax, by)\n",
        "\n",
        "    plt.subplot(1, 2, 1)\n",
        "    plt.plot(t, f.eval(t))\n",
        "    plt.title(type(f).__name__)\n",
        "    plt.grid(True)\n",
        "\n",
        "    plt.subplot(1, 2, 2)\n",
        "    plt.plot(t, f.eval_deriv(t))\n",
        "    plt.grid(True)\n",
        "    plt.title(\"Derivative of \" + type(f).__name__)\n",
        "\n",
        "    plt.show()"
      ],
      "metadata": {
        "id": "WIPwXqDvuLzb"
      },
      "execution_count": null,
      "outputs": []
    },
    {
      "cell_type": "code",
      "source": [
        "def display1D(NN, xmin=-4., xmax=4., n=100):\n",
        "    \"\"\"\n",
        "    Display the output of a MultiLayers Perceptron over 1D\n",
        "    \"\"\"\n",
        "    x = np.linspace(xmin, xmax, n)\n",
        "    y = NN.forward(x)\n",
        "    plt.plot(x, y[0,:])\n"
      ],
      "metadata": {
        "id": "BYWp8bWVun5o"
      },
      "execution_count": null,
      "outputs": []
    },
    {
      "cell_type": "code",
      "source": [
        "def displayClassif(NN, xmin=-5., xmax=5., n=100, end=True):\n",
        "    \"\"\"\n",
        "    Display the output of a MultiLayers Perceptron as Classication Areas\n",
        "    The input of the NN must be 2D\n",
        "    \"\"\"\n",
        "    discr = np.linspace(xmin, xmax, n)\n",
        "    x=np.array([(i, j) for i in discr for j in discr]).T\n",
        "    output = np.reshape(NN.forward(x), (len(discr), len(discr)))\n",
        "    classif = (output>0.5).astype(float)\n",
        "\n",
        "    fig, (ax1,ax2) = plt.subplots(figsize=(13, 4), ncols=2)\n",
        "    pos = ax1.imshow(output.T,extent=[min(discr), max(discr), min(discr), max(discr)],origin='lower')\n",
        "    fig.colorbar(pos, ax=ax1)\n",
        "    ax1.set_title(\"Neural network output\")\n",
        "\n",
        "    pos = ax2.imshow(classif.T,extent=[min(discr), max(discr), min(discr), max(discr)],origin='lower')\n",
        "    fig.colorbar(pos)\n",
        "    ax2.set_title(\"Classification\")\n",
        "    if end:\n",
        "        plt.show()\n",
        "    "
      ],
      "metadata": {
        "id": "OQHMwTLIu7Tq"
      },
      "execution_count": null,
      "outputs": []
    },
    {
      "cell_type": "code",
      "source": [
        "def view_classify(img, ps):\n",
        "    fig, (ax1, ax2) = plt.subplots(figsize=(6,9), ncols=2)\n",
        "    ax1.imshow(img.reshape(1, 28, 28).squeeze())\n",
        "    ax1.axis('off')\n",
        "    ax2.barh(np.arange(10), ps)\n",
        "    ax2.set_aspect(0.1)\n",
        "    ax2.set_yticks(np.arange(10))\n",
        "    ax2.set_yticklabels(np.arange(10))\n",
        "    ax2.set_title('Class Probability')\n",
        "    ax2.set_xlim(0, 1.1)\n",
        "    plt.tight_layout()"
      ],
      "metadata": {
        "id": "eM1IGRo4vX1B"
      },
      "execution_count": null,
      "outputs": []
    },
    {
      "cell_type": "markdown",
      "source": [
        "### Activation functions\n",
        "\n",
        "Our first step will be to code the NN activation\n",
        "functions.\n",
        "\n",
        "\n",
        "1.   Defining the abstract Activation class\n",
        "2.   Defining some of the classical Activation functions\n",
        "\n",
        "\n"
      ],
      "metadata": {
        "id": "ngXo1aEAvv1B"
      }
    },
    {
      "cell_type": "markdown",
      "source": [
        "#### Abstract class\n"
      ],
      "metadata": {
        "id": "OD06h1Qm0m6w"
      }
    },
    {
      "cell_type": "code",
      "source": [
        "from abc import ABC, abstractmethod\n",
        "\n",
        "class Activation(ABC):\n",
        "    def __init__(self):\n",
        "        self.deriv = autograd.elementwise_grad(self.eval)\n",
        "        pass\n",
        "\n",
        "    @abstractmethod\n",
        "    def eval(self, x):\n",
        "        pass\n",
        "    \n",
        "    def eval_deriv(self, x):\n",
        "        return self.deriv(x)\n",
        "        "
      ],
      "metadata": {
        "id": "BkEDgSCpvZnA"
      },
      "execution_count": null,
      "outputs": []
    },
    {
      "cell_type": "markdown",
      "source": [
        "#### Identity function\n",
        "\n",
        "$$f(x) = x$$\n",
        "\n",
        "$$f'(x) = 1$$\n",
        "\n",
        "1) ***Using the abstract class inheritence allows you to not specify the derivative.***\n",
        "\n",
        "Since the subclass will use the parent's function, and since the parent's function uses the autograd, this option is perfect for lazy coders."
      ],
      "metadata": {
        "id": "gmyHl4X1wf8T"
      }
    },
    {
      "cell_type": "code",
      "source": [
        "class IdentityLazy(Activation):\n",
        "    def eval(self,x):\n",
        "        return x"
      ],
      "metadata": {
        "id": "9Vo-gfCGxUWT"
      },
      "execution_count": null,
      "outputs": []
    },
    {
      "cell_type": "code",
      "source": [
        "uLazy = IdentityLazy()\n",
        "uLazy.eval_deriv(4.)"
      ],
      "metadata": {
        "colab": {
          "base_uri": "https://localhost:8080/"
        },
        "id": "jQoMBcNxxEZZ",
        "outputId": "30fb6f28-a519-468b-eff3-3540d3d7a4c9"
      },
      "execution_count": null,
      "outputs": [
        {
          "output_type": "execute_result",
          "data": {
            "text/plain": [
              "array(1.)"
            ]
          },
          "metadata": {},
          "execution_count": 99
        }
      ]
    },
    {
      "cell_type": "markdown",
      "source": [
        "2) ***However, if the derivative is known, it is useless (and possibly time consuming) to make your activation inherit from Activation.***"
      ],
      "metadata": {
        "id": "lb08ffE7x2EK"
      }
    },
    {
      "cell_type": "code",
      "source": [
        "class Identity():\n",
        "    def eval(self, x):\n",
        "        return x\n",
        "    \n",
        "    def eval_deriv(self, x):\n",
        "        return np.ones_like(x)"
      ],
      "metadata": {
        "id": "ealhONNGwfJe"
      },
      "execution_count": null,
      "outputs": []
    },
    {
      "cell_type": "code",
      "source": [
        "u = Identity()\n",
        "u.eval_deriv(4.)"
      ],
      "metadata": {
        "colab": {
          "base_uri": "https://localhost:8080/"
        },
        "id": "2vh8xsXOxFAS",
        "outputId": "251b4ff3-54a3-4cdb-b0de-19b3f7f44397"
      },
      "execution_count": null,
      "outputs": [
        {
          "output_type": "execute_result",
          "data": {
            "text/plain": [
              "array(1.)"
            ]
          },
          "metadata": {},
          "execution_count": 101
        }
      ]
    },
    {
      "cell_type": "code",
      "source": [
        "displayFunc(u)"
      ],
      "metadata": {
        "colab": {
          "base_uri": "https://localhost:8080/",
          "height": 281
        },
        "id": "fR0YcNnwxM7q",
        "outputId": "5147351e-dc81-4866-84eb-6ad3c0c25c90"
      },
      "execution_count": null,
      "outputs": [
        {
          "output_type": "display_data",
          "data": {
            "image/png": "[encoded data removed]",
            "text/plain": [
              "<Figure size 432x288 with 2 Axes>"
            ]
          },
          "metadata": {
            "needs_background": "light"
          }
        }
      ]
    },
    {
      "cell_type": "markdown",
      "source": [
        "Proof that autograd is slower :"
      ],
      "metadata": {
        "id": "Zwc36b9uy9ez"
      }
    },
    {
      "cell_type": "code",
      "source": [
        "%timeit uLazy.eval_deriv(4.)"
      ],
      "metadata": {
        "colab": {
          "base_uri": "https://localhost:8080/"
        },
        "id": "p5DvKT_KykNW",
        "outputId": "17574a46-2350-4de7-f723-5f8a811fe496"
      },
      "execution_count": null,
      "outputs": [
        {
          "output_type": "stream",
          "name": "stdout",
          "text": [
            "The slowest run took 8.39 times longer than the fastest. This could mean that an intermediate result is being cached.\n",
            "10000 loops, best of 5: 22.2 µs per loop\n"
          ]
        }
      ]
    },
    {
      "cell_type": "code",
      "source": [
        "%timeit u.eval_deriv(4.)"
      ],
      "metadata": {
        "colab": {
          "base_uri": "https://localhost:8080/"
        },
        "id": "NS2S_Y-RytKT",
        "outputId": "3648bb54-b795-41c8-cd45-51f017e8d0da"
      },
      "execution_count": null,
      "outputs": [
        {
          "output_type": "stream",
          "name": "stdout",
          "text": [
            "The slowest run took 12.00 times longer than the fastest. This could mean that an intermediate result is being cached.\n",
            "100000 loops, best of 5: 4.89 µs per loop\n"
          ]
        }
      ]
    },
    {
      "cell_type": "markdown",
      "source": [
        "#### Sigmoid (a.k.a logistic function)\n",
        "\n",
        "$$f(x) = \\frac{1}{1+e^{-x}}$$\n",
        "\n",
        "$$f'(x) = f(x)  (1-f(x))$$"
      ],
      "metadata": {
        "id": "BJAcep7xzoRD"
      }
    },
    {
      "cell_type": "code",
      "source": [
        "class Sigmoid():\n",
        "    def eval(self, x):\n",
        "        return 1. / (1. + np.exp(-x))\n",
        "\n",
        "    def eval_deriv(self, x):\n",
        "        p = self.eval(x)\n",
        "        return p * (1-p)"
      ],
      "metadata": {
        "id": "Tr4A73-6zl4Y"
      },
      "execution_count": null,
      "outputs": []
    },
    {
      "cell_type": "code",
      "source": [
        "displayFunc(Sigmoid())"
      ],
      "metadata": {
        "colab": {
          "base_uri": "https://localhost:8080/",
          "height": 281
        },
        "id": "JihnUnedzu8z",
        "outputId": "b885cbe0-49b6-4739-ba81-599cf2943630"
      },
      "execution_count": null,
      "outputs": [
        {
          "output_type": "display_data",
          "data": {
            "image/png": "[encoded data removed]",
            "text/plain": [
              "<Figure size 432x288 with 2 Axes>"
            ]
          },
          "metadata": {
            "needs_background": "light"
          }
        }
      ]
    },
    {
      "cell_type": "markdown",
      "source": [
        "#### SoftMax (for multi-label classification)\n",
        "\n",
        "It is the inverse transformation of the centered log-ratio\n",
        "\n",
        "$$f(x_1,\\dots,x_K)=\\frac{1}{\\sum_{k=1}^K e^{x_k}}\\left(\\begin{array}{c} e^{x_1} \\\\ \\vdots \\\\ e^{x_K}\\end{array}\\right)$$\n",
        "\n",
        "If SoftMax is used for binary classification, it corresponds to the sigmoid function up to a reparametrization.\n",
        "\n",
        "http://web.stanford.edu/~nanbhas//blog/sigmoid-softmax.html"
      ],
      "metadata": {
        "id": "cgpRWdhcz9DC"
      }
    },
    {
      "cell_type": "markdown",
      "source": [
        "#### Hyperbolic tangent\n",
        "\n",
        "$$f(x) = \\frac{e^x - e^{-x}}{e^x + e^{-x}}$$\n",
        "\n",
        "$$f'(x) = 1 - f^2(x)$$"
      ],
      "metadata": {
        "id": "rQPSu4Jv05sE"
      }
    },
    {
      "cell_type": "code",
      "source": [
        "class HyperbolicTangent():\n",
        "    def eval(self,x):\n",
        "        return (np.exp(x) - np.exp(-x)) / (np.exp(x) + np.exp(-x))\n",
        "\n",
        "    def eval_deriv(self,x):\n",
        "        return  1 - self.eval(x)**2    "
      ],
      "metadata": {
        "id": "nvKSu4Arz8Zi"
      },
      "execution_count": null,
      "outputs": []
    },
    {
      "cell_type": "code",
      "source": [
        "displayFunc(HyperbolicTangent())"
      ],
      "metadata": {
        "colab": {
          "base_uri": "https://localhost:8080/",
          "height": 281
        },
        "id": "vlJWB1CI09WP",
        "outputId": "bc7c9d30-4036-440c-f275-0d9b063ed29d"
      },
      "execution_count": null,
      "outputs": [
        {
          "output_type": "display_data",
          "data": {
            "image/png": "[encoded data removed]",
            "text/plain": [
              "<Figure size 432x288 with 2 Axes>"
            ]
          },
          "metadata": {
            "needs_background": "light"
          }
        }
      ]
    },
    {
      "cell_type": "markdown",
      "source": [
        "#### ReLU (Rectified Linear Unit)\n",
        "\n",
        "$$f(x) = \\max(0,x) = x \\mathbb{1}_{]0,+\\infty[}(x)$$\n",
        "\n",
        "$$f'(x) = \\mathbb{1}_{]0,+\\infty[}(x)$$"
      ],
      "metadata": {
        "id": "kjoNMbPm1mtF"
      }
    },
    {
      "cell_type": "code",
      "source": [
        "class ReLU():\n",
        "    def eval(self, x):\n",
        "        return x * self.eval_deriv(x)  # Do not make ReLu inherit from Activation\n",
        "    \n",
        "     def eval_deriv(self, x):\n",
        "        return  (x >= 0).astype(float)     "
      ],
      "metadata": {
        "id": "hSvoyYs21kQI"
      },
      "execution_count": null,
      "outputs": []
    },
    {
      "cell_type": "code",
      "source": [
        "displayFunc(ReLU())"
      ],
      "metadata": {
        "colab": {
          "base_uri": "https://localhost:8080/",
          "height": 281
        },
        "id": "H-cVKbXv1sfc",
        "outputId": "4351d461-a062-483e-9bb1-d8a04ffdcbf2"
      },
      "execution_count": null,
      "outputs": [
        {
          "output_type": "display_data",
          "data": {
            "image/png": "[encoded data removed]",
            "text/plain": [
              "<Figure size 432x288 with 2 Axes>"
            ]
          },
          "metadata": {
            "needs_background": "light"
          }
        }
      ]
    },
    {
      "cell_type": "markdown",
      "source": [
        "#### Leaky ReLU\n",
        "\n",
        "$$f(x) = \\max(\\varepsilon x,x)$$\n",
        "\n",
        "$$f'(x) = \\varepsilon\\mathbb{1}_{]-\\infty,0[}(x) + \\mathbb{1}_{]0,+\\infty[}(x)$$"
      ],
      "metadata": {
        "id": "aexNghxA21fr"
      }
    },
    {
      "cell_type": "code",
      "source": [
        "class LeakyReLU():\n",
        "    def __init__(self, eps):\n",
        "        self.eps = eps\n",
        "            \n",
        "    def eval(self, x):\n",
        "        return x * self.evalderiv(x)   # Do not make LeakyReLu inherit from Activation\n",
        "\n",
        "    def evalderiv(self, x):\n",
        "        indic = (x >= 0).astype(float)     \n",
        "        return  self.eps * (1. - indic) + indic"
      ],
      "metadata": {
        "id": "CszRgSTt206z"
      },
      "execution_count": null,
      "outputs": []
    },
    {
      "cell_type": "markdown",
      "source": [
        "## I. First implementation of the MultiLayer Perceptron class\n",
        "\n",
        "In the following code, you will build the class for a layer.\n",
        "\n",
        "A layer is specified by the dimension of the input (Ninput), the dimension of the ouput (Noutput), and an activation function (an object with a method \"eval\").\n",
        "\n",
        "The forward function computes the output of a given layer from the input vector. Note that the input vector does not include the constant 1 for the bias term."
      ],
      "metadata": {
        "id": "59hmJ0hh3KBR"
      }
    },
    {
      "cell_type": "code",
      "source": [
        "# Q1\n",
        "\n",
        "class DenseLayer:\n",
        "\n",
        "    def __init__(self, input_dim=1, output_dim=1, activation=Identity(), seed=None, L=1):\n",
        "        \"\"\"\n",
        "        input_dim: int, input dimension\n",
        "        output_dim: int, output dimension\n",
        "        activation: an activation class with both eval and eval_deriv functions\n",
        "        seed: int, random seed\n",
        "        L: random intervalle\n",
        "        \"\"\"\n",
        "        self.activation=activation\n",
        "        self.weights=None\n",
        "        self.init_random_weights(input_dim, output_dim, seed, L)\n",
        "\n",
        "        # Cached objects\n",
        "        self.tildeV=None\n",
        "        self.S=None\n",
        "        self.grad=None\n",
        "\n",
        "    def init_random_weights(self, input_dim=None, output_dim=None, seed=None, L=1):\n",
        "        \"\"\"\n",
        "        Create and Fill the weights matrix with random uniform number on [-L,L]\n",
        "        If specified, the seed of the numpy random number generator will be set to seed\n",
        "\n",
        "        input_dim and output_dim should be left to None only if weights are already initiated\n",
        "        \"\"\"\n",
        "\n",
        "        if seed is not None:\n",
        "            np.random.seed(seed)\n",
        "\n",
        "        if input_dim is None:\n",
        "            # No security check, but we'll assume the code will be used correctly\n",
        "            self.weights = L * (np.random.rand( self.weights.shape[0], self.weights.shape[1])-0.5)\n",
        "        else:      \n",
        "            # TODO: Your code (fill the None)\n",
        "            self.weights = L * (np.random.rand(output_dim, input_dim+1)-0.5) \n",
        "            # END\n",
        "\n",
        "    def forward(self, V):\n",
        "        \"\"\"\n",
        "        This function takes as entry a matrix (array) of size Ninput x N\n",
        "        It returns the evaluation of the layer\n",
        "        \"\"\"\n",
        "        V = np.atleast_2d(V) # See Glossary at the end of the notebook\n",
        "        ones = np.ones(np.shape(V)[1])\n",
        "\n",
        "        # TODO: Your code (fill the None)\n",
        "        self.tildeV = np.row_stack((ones, V))\n",
        "        self.S = self.weights @ self.tildeV\n",
        "        result = self.activation.eval(self.S)\n",
        "        # END\n",
        "\n",
        "        return result"
      ],
      "metadata": {
        "id": "szUkMV9y3Jdn"
      },
      "execution_count": null,
      "outputs": []
    },
    {
      "cell_type": "markdown",
      "source": [
        "#### Test\n",
        "\n",
        "After running the next chunk, \"Success\" has to be displayed. Otherwise, something is wrong"
      ],
      "metadata": {
        "id": "LjhVYZgtDdw-"
      }
    },
    {
      "cell_type": "code",
      "source": [
        "# Code Verification\n",
        "# (Do not edit)\n",
        "\n",
        "A = DenseLayer(2, 1, sigmoid(), seed=24)\n",
        "\n",
        "# 10 data (x will also be generated using the seed)\n",
        "x = np.random.rand(2, 10)\n",
        "expected_result = [0.72189383, 0.68976893, 0.67507701,0.73000272, 0.69081288,\n",
        "                   0.68102093, 0.72774888, 0.72015744, 0.66509593, 0.71445135]\n",
        "res = A.forward(x)\n",
        "assert np.all(abs(res - expected_result)< 1e-5)\n",
        "\n",
        "# 2 data (x will also be generated using the seed)\n",
        "x = np.random.rand(1, 2)\n",
        "A = DenseLayer(1, 1, sigmoid(), seed=24)\n",
        "res = A.forward(x)\n",
        "assert np.all(abs(res - [0.64467951, 0.65782785])< 1e-5)\n",
        "\n",
        "# Sanity Check\n",
        "print(\"Success\")"
      ],
      "metadata": {
        "colab": {
          "base_uri": "https://localhost:8080/"
        },
        "id": "3FnMP9qQAre6",
        "outputId": "1e4734fa-157f-4e89-a5e5-7f31f02cd970"
      },
      "execution_count": null,
      "outputs": [
        {
          "output_type": "stream",
          "name": "stdout",
          "text": [
            "Success\n"
          ]
        }
      ]
    },
    {
      "cell_type": "code",
      "source": [
        "ninput = 2\n",
        "noutput = 1\n",
        "ndata = 10\n",
        "print(\"Weights :\\n \", A.weights)"
      ],
      "metadata": {
        "colab": {
          "base_uri": "https://localhost:8080/"
        },
        "id": "u-WUZfmVDfQa",
        "outputId": "18300905-36d0-4410-85fc-4cc27e97bb2f"
      },
      "execution_count": null,
      "outputs": [
        {
          "output_type": "stream",
          "name": "stdout",
          "text": [
            "Weights :\n",
            "  [[0.4600173  0.19951205]]\n"
          ]
        }
      ]
    },
    {
      "cell_type": "code",
      "source": [
        "class MultiLayerPerceptron:\n",
        "    def __init__(self):\n",
        "        self.layers = []\n",
        "\n",
        "    def init_weights(self, seed=None, L=1):\n",
        "        if seed is not None:\n",
        "            np.random.seed(seed)\n",
        "\n",
        "        for layer in self.layers:\n",
        "            layer.init_random_weights(input_dim=None, output_dim=None, seed=seed, L=L)\n",
        "            \n",
        "    def add(self,layer):\n",
        "        self.layers.append(layer)\n",
        "\n",
        "    def forward(self, x):\n",
        "        for layer in self.layers:\n",
        "            x = layer.forward(x)\n",
        "        return x"
      ],
      "metadata": {
        "id": "ZaCyv31jDl6r"
      },
      "execution_count": null,
      "outputs": []
    },
    {
      "cell_type": "markdown",
      "source": [
        "### Linear Regression (1D)"
      ],
      "metadata": {
        "id": "ajvPuim-KNBV"
      }
    },
    {
      "cell_type": "code",
      "source": [
        "NN = MultiLayerPerceptron()\n",
        "A1 = DenseLayer(1, 1, identity(), seed=9)\n",
        "A1.weights[0][0] = 1.\n",
        "A1.weights[0][1] = 2.\n",
        "NN.add(A1)\n",
        "display1D(NN, 0, 1)"
      ],
      "metadata": {
        "colab": {
          "base_uri": "https://localhost:8080/",
          "height": 265
        },
        "id": "rKvxCS2xKKME",
        "outputId": "e5424f96-33ae-44fc-cbe2-a713890b9dda"
      },
      "execution_count": null,
      "outputs": [
        {
          "output_type": "display_data",
          "data": {
            "image/png": "[encoded data removed]",
            "text/plain": [
              "<Figure size 432x288 with 1 Axes>"
            ]
          },
          "metadata": {
            "needs_background": "light"
          }
        }
      ]
    },
    {
      "cell_type": "markdown",
      "source": [
        "### Non-linear Regression (1D)"
      ],
      "metadata": {
        "id": "3-iG77D6KTtc"
      }
    },
    {
      "cell_type": "code",
      "source": [
        "NN = MultiLayerPerceptron()\n",
        "A1 = DenseLayer(1, 12, ReLU(), seed=3)\n",
        "NN.add(A1)\n",
        "A2 = DenseLayer(12, 1, identity())\n",
        "NN.add(A2)\n",
        "display1D(NN, -2, 1)\n",
        "NN.init_weights(23)\n",
        "display1D(NN, -2, 1)\n",
        "NN.init_weights(24)\n",
        "display1D(NN, -2, 1)"
      ],
      "metadata": {
        "colab": {
          "base_uri": "https://localhost:8080/",
          "height": 265
        },
        "id": "yJjG2Dq1KUUh",
        "outputId": "c46f59cd-3a26-4d97-96ad-9e264635ba3d"
      },
      "execution_count": null,
      "outputs": [
        {
          "output_type": "display_data",
          "data": {
            "image/png": "[encoded data removed]",
            "text/plain": [
              "<Figure size 432x288 with 1 Axes>"
            ]
          },
          "metadata": {
            "needs_background": "light"
          }
        }
      ]
    },
    {
      "cell_type": "markdown",
      "source": [
        "### Logistic Regression (2D)"
      ],
      "metadata": {
        "id": "dnwSoNbBK05W"
      }
    },
    {
      "cell_type": "code",
      "source": [
        "NN = MultiLayerPerceptron()\n",
        "A1 = DenseLayer(2, 1, sigmoid(), seed=98)\n",
        "NN.add(A1)\n",
        "displayClassif(NN, -10, 10)"
      ],
      "metadata": {
        "colab": {
          "base_uri": "https://localhost:8080/",
          "height": 281
        },
        "id": "6C-0BYPcK0Cy",
        "outputId": "8bab813a-d671-4bde-d8d5-17b8c345b5e9"
      },
      "execution_count": null,
      "outputs": [
        {
          "output_type": "display_data",
          "data": {
            "image/png": "[encoded data removed]",
            "text/plain": [
              "<Figure size 936x288 with 4 Axes>"
            ]
          },
          "metadata": {
            "needs_background": "light"
          }
        }
      ]
    },
    {
      "cell_type": "markdown",
      "source": [
        "### Binary classification (2D)"
      ],
      "metadata": {
        "id": "KE9B_e9cLJhW"
      }
    },
    {
      "cell_type": "code",
      "source": [
        "Nhidden = 3\n",
        "NN = MultiLayerPerceptron()\n",
        "\n",
        "A1 = DenseLayer(2, Nhidden, ReLU(), seed=8, L=0.3)\n",
        "A1.weights\n",
        "NN.add(A1)\n",
        "A2 = DenseLayer(Nhidden, 1, sigmoid())\n",
        "NN.add(A2)\n",
        "x=np.random.rand(ninput, ndata)\n",
        "NN.forward(x)\n",
        "displayClassif(NN, -8, 8)"
      ],
      "metadata": {
        "colab": {
          "base_uri": "https://localhost:8080/",
          "height": 281
        },
        "id": "L8S28j2mLKAN",
        "outputId": "5097fb1d-b2e7-4391-bc83-8a20005ebdd1"
      },
      "execution_count": null,
      "outputs": [
        {
          "output_type": "display_data",
          "data": {
            "image/png": "[encoded data removed]",
            "text/plain": [
              "<Figure size 936x288 with 4 Axes>"
            ]
          },
          "metadata": {
            "needs_background": "light"
          }
        }
      ]
    },
    {
      "cell_type": "markdown",
      "source": [
        "## II. Evaluating a Neural Network"
      ],
      "metadata": {
        "id": "3CLZb9ftLtgB"
      }
    },
    {
      "cell_type": "code",
      "source": [
        "class Cost(ABC):\n",
        "    def __init__(self):\n",
        "        self.deriv = autograd.elementwise_grad(self.funct)\n",
        "\n",
        "    @abstractmethod\n",
        "    def funct(self,predict,real):\n",
        "        pass\n",
        "    \n",
        "    def eval(self,predict,real):\n",
        "        return np.sum(self.funct(predict, real))\n",
        "    \n",
        "    def eval_deriv(self,predict,real):\n",
        "        return self.deriv(predict,real)"
      ],
      "metadata": {
        "id": "csJ_nH5PLrp3"
      },
      "execution_count": null,
      "outputs": []
    },
    {
      "cell_type": "markdown",
      "source": [
        "### Cost functions\n",
        "\n",
        "The cost function between the true value $y^{(t)}$ and the predicted value (or predicted probability for classification) $f_\\omega(x)$ is given by $$L(y^{(t)},y^{(p)})=\\frac{1}{n}\\sum_{i=1}^n l(y_i^{(t)},y_i^{(p)})$$\n"
      ],
      "metadata": {
        "id": "QyNmp43oOLXC"
      }
    },
    {
      "cell_type": "markdown",
      "source": [
        "#### Mean Squared Error\n",
        "\n",
        "This function is used for regression where the output vector $y^{(p)}$ is generally the linear term of the last layer (identity activation):\n",
        "\n",
        "$$l(y^{(p)},y^{(t)}) = \\frac{1}{2}(y_i^{(p)}-y_i^{(t)})^2$$\n",
        "\n",
        "#### Gradient\n",
        "\n",
        "\n",
        "$$\\frac{\\partial L}{\\partial y_i^{(p)}}= y_i^{(p)}-y_i^{(t)}$$ \n"
      ],
      "metadata": {
        "id": "MFb12bYnOLbe"
      }
    },
    {
      "cell_type": "code",
      "source": [
        "class MeanSquare():\n",
        "    def eval(self, predict, real):\n",
        "        return 0.5 * np.sum((predict-real)**2)\n",
        "    \n",
        "    def eval_deriv(self, predict, real):\n",
        "        return predict - real"
      ],
      "metadata": {
        "id": "-v7Np2YhLS_U"
      },
      "execution_count": null,
      "outputs": []
    },
    {
      "cell_type": "markdown",
      "source": [
        "#### Binary Cross-Entropy\n",
        "\n",
        "This function is used for classification where the ouput vector $y^{(p)}$ is computed from the sigmoid function applied to the linear term of the last layer :\n",
        "\n",
        "$$y^{(p)}_i = \\frac{1}{1+e^{-s_i}}$$ \n",
        "\n",
        "$$L(y^{(p)},y^{(t)}) = -\\sum_{i=1}^n \\left(y_i^{(t)}\\log(y_i^{(p)}) + (1-y_i^{(t)})\\log(1-y_i^{(p)})\\right)$$\n",
        "\n",
        "#### Gradient\n",
        "\n",
        "$$\\frac{\\partial L}{\\partial y_i^{(p)}}= -\\frac{y_i^{(t)}}{y_i^{(p)}}+\\frac{1-y_i^{(t)}}{1-y_i^{(p)}}=\\frac{y_i^{(p)}-y_i^{(t)}}{y_i^{(p)}  (1-y_i^{(p)})}$$ \n",
        "\n",
        "$$\\frac{\\partial L}{\\partial s_i} = \\frac{\\partial L}{\\partial y_i^{(p)}}\\frac{\\partial y_i^{(p)}}{\\partial s_i} = \n",
        "y_i^{(p)}-y_i^{(t)}$$"
      ],
      "metadata": {
        "id": "uMB5oi9wOU7u"
      }
    },
    {
      "cell_type": "code",
      "source": [
        "class BinaryCrossEntropy():\n",
        "    def eval(self,predict,real):\n",
        "        return - np.sum( real * np.log(predict) + (1-real)*np.log(1-predict) )\n",
        "    \n",
        "    def eval_deriv(self,predict,real):\n",
        "        return (predict - real)/(predict*(1-predict))"
      ],
      "metadata": {
        "id": "nvS74diAOXRZ"
      },
      "execution_count": null,
      "outputs": []
    },
    {
      "cell_type": "markdown",
      "source": [
        "### Remark:\n",
        "\n",
        "For multi-label classification, the cost-function is generally the cross entropy:\n",
        "\n",
        "\n",
        "$$L(y^{(p)},y^{(t)}) =-\\sum_{i=1}^n \\sum_{k=1}^K \\left({y_k}_i^{(t)}\\log({y_k}_i^{(p)})\\right)$$\n",
        "\n",
        "where $y_k^{(p)}$ is the predicted probability vector for the class $k$ and $y_k^{(t)}$ is the indicator vector of the class $k$.\n",
        "\n",
        "Used with the softmax activation function for the output layer, similar simplifications occur."
      ],
      "metadata": {
        "id": "K4UXX6bLObg9"
      }
    },
    {
      "cell_type": "markdown",
      "source": [
        "## III. Learning Algorithm for a Neural Network"
      ],
      "metadata": {
        "id": "Mj7C1cs3OkAl"
      }
    },
    {
      "cell_type": "markdown",
      "source": [
        "### Gradient of the cost function with respect to the weights"
      ],
      "metadata": {
        "id": "1PUDZaM7OqSR"
      }
    },
    {
      "cell_type": "markdown",
      "source": [
        "### 1) Back-propagation"
      ],
      "metadata": {
        "id": "kw7tBVLfOr5X"
      }
    },
    {
      "cell_type": "code",
      "source": [
        "def BackPropGeneric(NN, x, real, cost):\n",
        "    predict = NN.forward(x)\n",
        "    l = NN.layers[-1]\n",
        "    # dCost/df(y) = dCost/df(y) * df(y)/dy\n",
        "    E = cost.eval_deriv(predict, real).T * l.activation.eval_deriv(l.linear).T\n",
        "\n",
        "    # Last layer -> first layer\n",
        "    for il in reversed(range(len(NN.layers))):\n",
        "        # Since y = Wx + b\n",
        "        # dy/dW = x => dCost/dW = dCost/dy * dy/dW = dCost/dy * x\n",
        "        # dy/db = 1 => dCost/db = dCost/dy * dy/db = dCost/dy\n",
        "        # Weights and Bias gradients for hidden layer := dCost/doutput.T @ input.T\n",
        "        l.grad = E.T @ l.tildeV.T\n",
        "\n",
        "        if il > 0:\n",
        "            # dy/dx = W => dCost/dW = dCost/dy * dy/dx = dCost/dy * W\n",
        "            E = E @ l.weights[:, 1:]\n",
        "            l = NN.layers[il-1]\n",
        "            E = E * l.activation.eval_deriv(l.S).T\n",
        "\n",
        "            \n",
        "def BackProp(NN, x, real, cost):\n",
        "    predict = NN.forward(x)\n",
        "    E = (predict - real).T\n",
        "    for il in reversed(range(len(NN.layers))):\n",
        "        l = NN.layers[il]\n",
        "        l.grad = E.T @ l.tildeV.T\n",
        "        if il > 0:\n",
        "            lp = NN.layers[il-1]\n",
        "            E = (E @ l.weights[:,1:]) * lp.activation.eval_deriv(lp.S).T"
      ],
      "metadata": {
        "id": "lRAFid32OaiB"
      },
      "execution_count": null,
      "outputs": []
    },
    {
      "cell_type": "markdown",
      "source": [
        "###  2) Finite differences"
      ],
      "metadata": {
        "id": "AZRrERUOPGuZ"
      }
    },
    {
      "cell_type": "code",
      "source": [
        "def FinDiff(NN, x, real, cost=MeanSquare, delta=1e-6):\n",
        "\n",
        "    res = [ np.zeros( np.shape(l.weights) )  for l in NN.layers  ]\n",
        "\n",
        "    for s, l in enumerate(NN.layers):\n",
        "        for j in range(l.weights.shape[0]):\n",
        "            for k in range(l.weights.shape[1]):\n",
        "    \n",
        "                W = l.weights\n",
        "                W[j,k] = W[j,k] + delta\n",
        "                predict1 = NN.forward(x)\n",
        "            \n",
        "                W[j,k] = W[j,k] - 2 * delta\n",
        "                predict2 = NN.forward(x)\n",
        "                res[s][j,k] = (cost.eval(predict1 , real )- cost.eval(predict2 , real )) / (2*delta)\n",
        "                W[j,k] = W[j,k] + delta\n",
        "    return res"
      ],
      "metadata": {
        "id": "GKf9ReJ7PFwm"
      },
      "execution_count": null,
      "outputs": []
    },
    {
      "cell_type": "markdown",
      "source": [
        "### Comparison of the two approaches"
      ],
      "metadata": {
        "id": "_1uNX49OPaer"
      }
    }
  ]
}